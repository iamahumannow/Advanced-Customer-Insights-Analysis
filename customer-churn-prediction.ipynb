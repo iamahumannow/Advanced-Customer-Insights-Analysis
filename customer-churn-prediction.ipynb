{
 "cells": [
  {
   "cell_type": "markdown",
   "id": "stainless-prefix",
   "metadata": {
    "papermill": {
     "duration": 0.089836,
     "end_time": "2021-06-29T09:02:44.611509",
     "exception": false,
     "start_time": "2021-06-29T09:02:44.521673",
     "status": "completed"
    },
    "tags": []
   },
   "source": [
    "**<center> <span style=\"font-family:georgia; font-size:34px;\">CUSTOMER CHURN PREDICTION</span> </center>**"
   ]
  },
  {
   "cell_type": "markdown",
   "id": "convenient-growing",
   "metadata": {
    "papermill": {
     "duration": 0.085149,
     "end_time": "2021-06-29T09:02:45.517257",
     "exception": false,
     "start_time": "2021-06-29T09:02:45.432108",
     "status": "completed"
    },
    "tags": []
   },
   "source": [
    "<a id = \"1\" ></a>\n",
    "# <span style=\"font-family:serif; font-size:28px;\"> 1. Introduction</span>\n"
   ]
  },
  {
   "cell_type": "markdown",
   "id": "furnished-tracy",
   "metadata": {
    "papermill": {
     "duration": 0.08721,
     "end_time": "2021-06-29T09:02:45.689796",
     "exception": false,
     "start_time": "2021-06-29T09:02:45.602586",
     "status": "completed"
    },
    "tags": []
   },
   "source": [
    "\n",
    "<span>  Customer churn is defined as when customers or subscribers discontinue doing business with a firm or service. </span>\n"
   ]
  },
  {
   "cell_type": "markdown",
   "id": "nuclear-generator",
   "metadata": {
    "papermill": {
     "duration": 0.086335,
     "end_time": "2021-06-29T09:02:45.861908",
     "exception": false,
     "start_time": "2021-06-29T09:02:45.775573",
     "status": "completed"
    },
    "tags": []
   },
   "source": [
    "___"
   ]
  },
  {
   "cell_type": "markdown",
   "id": "patient-statistics",
   "metadata": {
    "papermill": {
     "duration": 0.086411,
     "end_time": "2021-06-29T09:02:46.034553",
     "exception": false,
     "start_time": "2021-06-29T09:02:45.948142",
     "status": "completed"
    },
    "tags": []
   },
   "source": [
    "<a id = \"5\" ></a>\n",
    "# <span style=\"font-family:serif; font-size:28px;\"> 2. Loading libraries and data</span>\n"
   ]
  },
  {
   "cell_type": "code",
   "execution_count": null,
   "id": "spiritual-candy",
   "metadata": {
    "_cell_guid": "b1076dfc-b9ad-4769-8c92-a6c4dae69d19",
    "_uuid": "8f2839f25d086af736a60e9eeb907d3b93b6e0e5",
    "execution": {
     "iopub.execute_input": "2021-06-29T09:02:46.219388Z",
     "iopub.status.busy": "2021-06-29T09:02:46.218774Z",
     "iopub.status.idle": "2021-06-29T09:02:48.542138Z",
     "shell.execute_reply": "2021-06-29T09:02:48.542687Z",
     "shell.execute_reply.started": "2021-06-29T08:55:19.913161Z"
    },
    "papermill": {
     "duration": 2.421865,
     "end_time": "2021-06-29T09:02:48.542982",
     "exception": false,
     "start_time": "2021-06-29T09:02:46.121117",
     "status": "completed"
    },
    "tags": []
   },
   "outputs": [],
   "source": [
    "import pandas as pd\n",
    "import numpy as np\n",
    "import missingno as msno\n",
    "import matplotlib.pyplot as plt\n",
    "import seaborn as sns\n",
    "import plotly.express as px\n",
    "import plotly.graph_objects as go\n",
    "from plotly.subplots import make_subplots\n",
    "import warnings\n",
    "warnings.filterwarnings('ignore')"
   ]
  },
  {
   "cell_type": "code",
   "execution_count": null,
   "id": "failing-consolidation",
   "metadata": {
    "execution": {
     "iopub.execute_input": "2021-06-29T09:02:48.723347Z",
     "iopub.status.busy": "2021-06-29T09:02:48.722671Z",
     "iopub.status.idle": "2021-06-29T09:02:49.349604Z",
     "shell.execute_reply": "2021-06-29T09:02:49.349047Z",
     "shell.execute_reply.started": "2021-06-29T08:55:22.284433Z"
    },
    "papermill": {
     "duration": 0.720873,
     "end_time": "2021-06-29T09:02:49.349754",
     "exception": false,
     "start_time": "2021-06-29T09:02:48.628881",
     "status": "completed"
    },
    "tags": []
   },
   "outputs": [],
   "source": [
    "from sklearn.preprocessing import StandardScaler\n",
    "from sklearn.preprocessing import LabelEncoder\n",
    "\n",
    "from sklearn.tree import DecisionTreeClassifier\n",
    "from sklearn.ensemble import RandomForestClassifier\n",
    "from sklearn.naive_bayes import GaussianNB\n",
    "from sklearn.neighbors import KNeighborsClassifier\n",
    "from sklearn.svm import SVC\n",
    "from sklearn.neural_network import MLPClassifier\n",
    "from sklearn.ensemble import AdaBoostClassifier\n",
    "from sklearn.ensemble import GradientBoostingClassifier\n",
    "from sklearn.ensemble import ExtraTreesClassifier\n",
    "from sklearn.linear_model import LogisticRegression\n",
    "from sklearn.model_selection import train_test_split\n",
    "from sklearn.metrics import accuracy_score\n",
    "from xgboost import XGBClassifier\n",
    "from catboost import CatBoostClassifier\n",
    "from sklearn import metrics\n",
    "from sklearn.metrics import roc_curve\n",
    "from sklearn.metrics import recall_score, confusion_matrix, precision_score, f1_score, accuracy_score, classification_report"
   ]
  },
  {
   "cell_type": "code",
   "execution_count": null,
   "id": "hidden-flash",
   "metadata": {
    "execution": {
     "iopub.execute_input": "2021-06-29T09:02:49.525459Z",
     "iopub.status.busy": "2021-06-29T09:02:49.524816Z",
     "iopub.status.idle": "2021-06-29T09:02:49.586294Z",
     "shell.execute_reply": "2021-06-29T09:02:49.585732Z",
     "shell.execute_reply.started": "2021-06-29T08:55:22.965654Z"
    },
    "papermill": {
     "duration": 0.151159,
     "end_time": "2021-06-29T09:02:49.586502",
     "exception": false,
     "start_time": "2021-06-29T09:02:49.435343",
     "status": "completed"
    },
    "tags": []
   },
   "outputs": [],
   "source": [
    "#loading data\n",
    "df = pd.read_csv('../input/telco-customer-churn/WA_Fn-UseC_-Telco-Customer-Churn.csv')"
   ]
  },
  {
   "cell_type": "markdown",
   "id": "lovely-budapest",
   "metadata": {
    "papermill": {
     "duration": 0.086405,
     "end_time": "2021-06-29T09:02:49.759279",
     "exception": false,
     "start_time": "2021-06-29T09:02:49.672874",
     "status": "completed"
    },
    "tags": []
   },
   "source": [
    "___"
   ]
  },
  {
   "cell_type": "markdown",
   "id": "built-collins",
   "metadata": {
    "papermill": {
     "duration": 0.085769,
     "end_time": "2021-06-29T09:02:49.931637",
     "exception": false,
     "start_time": "2021-06-29T09:02:49.845868",
     "status": "completed"
    },
    "tags": []
   },
   "source": [
    "<a id = \"6\" ></a>\n",
    "# <span style=\"font-family:serif; font-size:28px;\"> 3. Understanding the data</span>\n"
   ]
  },
  {
   "cell_type": "code",
   "execution_count": null,
   "id": "literary-proof",
   "metadata": {
    "execution": {
     "iopub.execute_input": "2021-06-29T09:02:50.300506Z",
     "iopub.status.busy": "2021-06-29T09:02:50.299841Z",
     "iopub.status.idle": "2021-06-29T09:02:50.329567Z",
     "shell.execute_reply": "2021-06-29T09:02:50.329060Z",
     "shell.execute_reply.started": "2021-06-29T08:55:23.025094Z"
    },
    "papermill": {
     "duration": 0.136188,
     "end_time": "2021-06-29T09:02:50.329704",
     "exception": false,
     "start_time": "2021-06-29T09:02:50.193516",
     "status": "completed"
    },
    "tags": []
   },
   "outputs": [],
   "source": [
    "df.head()"
   ]
  },
  {
   "cell_type": "code",
   "execution_count": null,
   "id": "macro-replication",
   "metadata": {
    "execution": {
     "iopub.execute_input": "2021-06-29T09:02:50.681202Z",
     "iopub.status.busy": "2021-06-29T09:02:50.680538Z",
     "iopub.status.idle": "2021-06-29T09:02:50.683672Z",
     "shell.execute_reply": "2021-06-29T09:02:50.683068Z",
     "shell.execute_reply.started": "2021-06-29T08:55:23.072763Z"
    },
    "papermill": {
     "duration": 0.094226,
     "end_time": "2021-06-29T09:02:50.683804",
     "exception": false,
     "start_time": "2021-06-29T09:02:50.589578",
     "status": "completed"
    },
    "tags": []
   },
   "outputs": [],
   "source": [
    "df.shape"
   ]
  },
  {
   "cell_type": "code",
   "execution_count": null,
   "id": "complicated-norman",
   "metadata": {
    "execution": {
     "iopub.execute_input": "2021-06-29T09:02:50.876535Z",
     "iopub.status.busy": "2021-06-29T09:02:50.875484Z",
     "iopub.status.idle": "2021-06-29T09:02:50.894635Z",
     "shell.execute_reply": "2021-06-29T09:02:50.895202Z",
     "shell.execute_reply.started": "2021-06-29T08:55:23.078824Z"
    },
    "papermill": {
     "duration": 0.124616,
     "end_time": "2021-06-29T09:02:50.895466",
     "exception": false,
     "start_time": "2021-06-29T09:02:50.770850",
     "status": "completed"
    },
    "tags": []
   },
   "outputs": [],
   "source": [
    "df.info()"
   ]
  },
  {
   "cell_type": "code",
   "execution_count": null,
   "id": "delayed-sailing",
   "metadata": {
    "execution": {
     "iopub.execute_input": "2021-06-29T09:02:51.077339Z",
     "iopub.status.busy": "2021-06-29T09:02:51.076424Z",
     "iopub.status.idle": "2021-06-29T09:02:51.081960Z",
     "shell.execute_reply": "2021-06-29T09:02:51.082415Z",
     "shell.execute_reply.started": "2021-06-29T08:55:23.123211Z"
    },
    "papermill": {
     "duration": 0.09838,
     "end_time": "2021-06-29T09:02:51.082588",
     "exception": false,
     "start_time": "2021-06-29T09:02:50.984208",
     "status": "completed"
    },
    "tags": []
   },
   "outputs": [],
   "source": [
    "df.columns.values"
   ]
  },
  {
   "cell_type": "code",
   "execution_count": null,
   "id": "coral-recommendation",
   "metadata": {
    "execution": {
     "iopub.execute_input": "2021-06-29T09:02:51.265417Z",
     "iopub.status.busy": "2021-06-29T09:02:51.264418Z",
     "iopub.status.idle": "2021-06-29T09:02:51.271460Z",
     "shell.execute_reply": "2021-06-29T09:02:51.271900Z",
     "shell.execute_reply.started": "2021-06-29T08:55:23.130697Z"
    },
    "papermill": {
     "duration": 0.101852,
     "end_time": "2021-06-29T09:02:51.272069",
     "exception": false,
     "start_time": "2021-06-29T09:02:51.170217",
     "status": "completed"
    },
    "tags": []
   },
   "outputs": [],
   "source": [
    "df.dtypes"
   ]
  },
  {
   "cell_type": "markdown",
   "id": "detailed-bradford",
   "metadata": {
    "papermill": {
     "duration": 0.087727,
     "end_time": "2021-06-29T09:02:51.623824",
     "exception": false,
     "start_time": "2021-06-29T09:02:51.536097",
     "status": "completed"
    },
    "tags": []
   },
   "source": [
    "***"
   ]
  },
  {
   "cell_type": "markdown",
   "id": "maritime-episode",
   "metadata": {
    "papermill": {
     "duration": 0.088102,
     "end_time": "2021-06-29T09:02:51.800741",
     "exception": false,
     "start_time": "2021-06-29T09:02:51.712639",
     "status": "completed"
    },
    "tags": []
   },
   "source": [
    "<a id = \"7\" ></a>\n",
    "# <span style=\"font-family:serif; font-size:28px;\"> 4. Visualize missing values using missingno </span>\n"
   ]
  },
  {
   "cell_type": "code",
   "execution_count": null,
   "id": "insured-israeli",
   "metadata": {
    "execution": {
     "iopub.execute_input": "2021-06-29T09:02:51.981787Z",
     "iopub.status.busy": "2021-06-29T09:02:51.980787Z",
     "iopub.status.idle": "2021-06-29T09:02:52.647779Z",
     "shell.execute_reply": "2021-06-29T09:02:52.648272Z",
     "shell.execute_reply.started": "2021-06-29T08:55:23.148328Z"
    },
    "papermill": {
     "duration": 0.759173,
     "end_time": "2021-06-29T09:02:52.648460",
     "exception": false,
     "start_time": "2021-06-29T09:02:51.889287",
     "status": "completed"
    },
    "tags": []
   },
   "outputs": [],
   "source": [
    "# Visualize missing values as a matrix\n",
    "msno.matrix(df);"
   ]
  },
  {
   "cell_type": "markdown",
   "id": "enormous-reflection",
   "metadata": {
    "papermill": {
     "duration": 0.090765,
     "end_time": "2021-06-29T09:02:53.010673",
     "exception": false,
     "start_time": "2021-06-29T09:02:52.919908",
     "status": "completed"
    },
    "tags": []
   },
   "source": [
    "***"
   ]
  },
  {
   "cell_type": "markdown",
   "id": "shared-overview",
   "metadata": {
    "papermill": {
     "duration": 0.090921,
     "end_time": "2021-06-29T09:02:53.191994",
     "exception": false,
     "start_time": "2021-06-29T09:02:53.101073",
     "status": "completed"
    },
    "tags": []
   },
   "source": [
    "<a id = \"8\" ></a>\n",
    "# <span style=\"font-family:serif; font-size:28px;\"> 5. Data Manipulation </span>"
   ]
  },
  {
   "cell_type": "code",
   "execution_count": null,
   "id": "transsexual-prisoner",
   "metadata": {
    "execution": {
     "iopub.execute_input": "2021-06-29T09:02:53.400570Z",
     "iopub.status.busy": "2021-06-29T09:02:53.399875Z",
     "iopub.status.idle": "2021-06-29T09:02:53.404555Z",
     "shell.execute_reply": "2021-06-29T09:02:53.404015Z",
     "shell.execute_reply.started": "2021-06-29T08:55:23.763736Z"
    },
    "papermill": {
     "duration": 0.120918,
     "end_time": "2021-06-29T09:02:53.404705",
     "exception": false,
     "start_time": "2021-06-29T09:02:53.283787",
     "status": "completed"
    },
    "tags": []
   },
   "outputs": [],
   "source": [
    "df = df.drop(['customerID'], axis = 1)\n",
    "df.head()"
   ]
  },
  {
   "cell_type": "code",
   "execution_count": null,
   "id": "asian-consideration",
   "metadata": {
    "execution": {
     "iopub.execute_input": "2021-06-29T09:02:53.803282Z",
     "iopub.status.busy": "2021-06-29T09:02:53.802186Z",
     "iopub.status.idle": "2021-06-29T09:02:53.834951Z",
     "shell.execute_reply": "2021-06-29T09:02:53.834396Z",
     "shell.execute_reply.started": "2021-06-29T08:55:23.791927Z"
    },
    "papermill": {
     "duration": 0.14258,
     "end_time": "2021-06-29T09:02:53.835104",
     "exception": false,
     "start_time": "2021-06-29T09:02:53.692524",
     "status": "completed"
    },
    "tags": []
   },
   "outputs": [],
   "source": [
    "df['TotalCharges'] = pd.to_numeric(df.TotalCharges, errors='coerce')\n",
    "df.isnull().sum()"
   ]
  },
  {
   "cell_type": "code",
   "execution_count": null,
   "id": "compressed-diving",
   "metadata": {
    "execution": {
     "iopub.execute_input": "2021-06-29T09:02:54.261646Z",
     "iopub.status.busy": "2021-06-29T09:02:54.260922Z",
     "iopub.status.idle": "2021-06-29T09:02:54.290124Z",
     "shell.execute_reply": "2021-06-29T09:02:54.290698Z",
     "shell.execute_reply.started": "2021-06-29T08:55:23.824465Z"
    },
    "papermill": {
     "duration": 0.127825,
     "end_time": "2021-06-29T09:02:54.290874",
     "exception": false,
     "start_time": "2021-06-29T09:02:54.163049",
     "status": "completed"
    },
    "tags": []
   },
   "outputs": [],
   "source": [
    "df[np.isnan(df['TotalCharges'])]"
   ]
  },
  {
   "cell_type": "code",
   "execution_count": null,
   "id": "shaped-maximum",
   "metadata": {
    "execution": {
     "iopub.execute_input": "2021-06-29T09:02:54.670466Z",
     "iopub.status.busy": "2021-06-29T09:02:54.669347Z",
     "iopub.status.idle": "2021-06-29T09:02:54.694571Z",
     "shell.execute_reply": "2021-06-29T09:02:54.693974Z",
     "shell.execute_reply.started": "2021-06-29T08:55:23.856114Z"
    },
    "papermill": {
     "duration": 0.121839,
     "end_time": "2021-06-29T09:02:54.694721",
     "exception": false,
     "start_time": "2021-06-29T09:02:54.572882",
     "status": "completed"
    },
    "tags": []
   },
   "outputs": [],
   "source": [
    "df[df['tenure'] == 0].index"
   ]
  },
  {
   "cell_type": "code",
   "execution_count": null,
   "id": "surprised-powder",
   "metadata": {
    "execution": {
     "iopub.execute_input": "2021-06-29T09:02:55.082177Z",
     "iopub.status.busy": "2021-06-29T09:02:55.081512Z",
     "iopub.status.idle": "2021-06-29T09:02:55.088169Z",
     "shell.execute_reply": "2021-06-29T09:02:55.088797Z",
     "shell.execute_reply.started": "2021-06-29T08:55:23.878972Z"
    },
    "papermill": {
     "duration": 0.107557,
     "end_time": "2021-06-29T09:02:55.089007",
     "exception": false,
     "start_time": "2021-06-29T09:02:54.981450",
     "status": "completed"
    },
    "tags": []
   },
   "outputs": [],
   "source": [
    "df.drop(labels=df[df['tenure'] == 0].index, axis=0, inplace=True)\n",
    "df[df['tenure'] == 0].index"
   ]
  },
  {
   "cell_type": "code",
   "execution_count": null,
   "id": "boolean-budapest",
   "metadata": {
    "execution": {
     "iopub.execute_input": "2021-06-29T09:02:55.466612Z",
     "iopub.status.busy": "2021-06-29T09:02:55.465948Z",
     "iopub.status.idle": "2021-06-29T09:02:55.514729Z",
     "shell.execute_reply": "2021-06-29T09:02:55.514197Z",
     "shell.execute_reply.started": "2021-06-29T08:55:23.891496Z"
    },
    "papermill": {
     "duration": 0.144652,
     "end_time": "2021-06-29T09:02:55.514867",
     "exception": false,
     "start_time": "2021-06-29T09:02:55.370215",
     "status": "completed"
    },
    "tags": []
   },
   "outputs": [],
   "source": [
    "df.fillna(df[\"TotalCharges\"].mean())"
   ]
  },
  {
   "cell_type": "code",
   "execution_count": null,
   "id": "solved-shipping",
   "metadata": {
    "execution": {
     "iopub.execute_input": "2021-06-29T09:02:55.719453Z",
     "iopub.status.busy": "2021-06-29T09:02:55.718770Z",
     "iopub.status.idle": "2021-06-29T09:02:55.726883Z",
     "shell.execute_reply": "2021-06-29T09:02:55.726285Z",
     "shell.execute_reply.started": "2021-06-29T08:55:23.945218Z"
    },
    "papermill": {
     "duration": 0.117474,
     "end_time": "2021-06-29T09:02:55.727035",
     "exception": false,
     "start_time": "2021-06-29T09:02:55.609561",
     "status": "completed"
    },
    "tags": []
   },
   "outputs": [],
   "source": [
    "df.isnull().sum()"
   ]
  },
  {
   "cell_type": "code",
   "execution_count": null,
   "id": "legal-vatican",
   "metadata": {
    "execution": {
     "iopub.execute_input": "2021-06-29T09:02:55.921449Z",
     "iopub.status.busy": "2021-06-29T09:02:55.920756Z",
     "iopub.status.idle": "2021-06-29T09:02:55.948271Z",
     "shell.execute_reply": "2021-06-29T09:02:55.948753Z",
     "shell.execute_reply.started": "2021-06-29T08:55:23.966777Z"
    },
    "papermill": {
     "duration": 0.126324,
     "end_time": "2021-06-29T09:02:55.948927",
     "exception": false,
     "start_time": "2021-06-29T09:02:55.822603",
     "status": "completed"
    },
    "tags": []
   },
   "outputs": [],
   "source": [
    "df[\"SeniorCitizen\"]= df[\"SeniorCitizen\"].map({0: \"No\", 1: \"Yes\"})\n",
    "df.head()"
   ]
  },
  {
   "cell_type": "code",
   "execution_count": null,
   "id": "pointed-maintenance",
   "metadata": {
    "execution": {
     "iopub.execute_input": "2021-06-29T09:02:56.144948Z",
     "iopub.status.busy": "2021-06-29T09:02:56.144243Z",
     "iopub.status.idle": "2021-06-29T09:02:56.155426Z",
     "shell.execute_reply": "2021-06-29T09:02:56.154893Z",
     "shell.execute_reply.started": "2021-06-29T08:55:24.000825Z"
    },
    "papermill": {
     "duration": 0.108963,
     "end_time": "2021-06-29T09:02:56.155570",
     "exception": false,
     "start_time": "2021-06-29T09:02:56.046607",
     "status": "completed"
    },
    "tags": []
   },
   "outputs": [],
   "source": [
    "df[\"InternetService\"].describe(include=['object', 'bool'])"
   ]
  },
  {
   "cell_type": "code",
   "execution_count": null,
   "id": "wooden-sodium",
   "metadata": {
    "execution": {
     "iopub.execute_input": "2021-06-29T09:02:56.354292Z",
     "iopub.status.busy": "2021-06-29T09:02:56.353601Z",
     "iopub.status.idle": "2021-06-29T09:02:56.377785Z",
     "shell.execute_reply": "2021-06-29T09:02:56.377165Z",
     "shell.execute_reply.started": "2021-06-29T08:55:24.014572Z"
    },
    "papermill": {
     "duration": 0.125674,
     "end_time": "2021-06-29T09:02:56.377929",
     "exception": false,
     "start_time": "2021-06-29T09:02:56.252255",
     "status": "completed"
    },
    "tags": []
   },
   "outputs": [],
   "source": [
    "numerical_cols = ['tenure', 'MonthlyCharges', 'TotalCharges']\n",
    "df[numerical_cols].describe()"
   ]
  },
  {
   "cell_type": "markdown",
   "id": "injured-clothing",
   "metadata": {
    "papermill": {
     "duration": 0.098013,
     "end_time": "2021-06-29T09:02:56.572191",
     "exception": false,
     "start_time": "2021-06-29T09:02:56.474178",
     "status": "completed"
    },
    "tags": []
   },
   "source": [
    "___"
   ]
  },
  {
   "cell_type": "markdown",
   "id": "orange-juvenile",
   "metadata": {
    "papermill": {
     "duration": 0.097998,
     "end_time": "2021-06-29T09:02:56.771176",
     "exception": false,
     "start_time": "2021-06-29T09:02:56.673178",
     "status": "completed"
    },
    "tags": []
   },
   "source": [
    "<a id = \"9\" ></a>\n",
    "# <span style=\"font-family:serif; font-size:28px;\"> 6. Data Visualization </span>"
   ]
  },
  {
   "cell_type": "code",
   "execution_count": null,
   "id": "returning-assistant",
   "metadata": {
    "_kg_hide-input": true,
    "execution": {
     "iopub.execute_input": "2021-06-29T09:02:56.979303Z",
     "iopub.status.busy": "2021-06-29T09:02:56.978643Z",
     "iopub.status.idle": "2021-06-29T09:02:57.259261Z",
     "shell.execute_reply": "2021-06-29T09:02:57.258622Z",
     "shell.execute_reply.started": "2021-06-29T08:55:24.050806Z"
    },
    "papermill": {
     "duration": 0.388578,
     "end_time": "2021-06-29T09:02:57.259418",
     "exception": false,
     "start_time": "2021-06-29T09:02:56.870840",
     "status": "completed"
    },
    "tags": []
   },
   "outputs": [],
   "source": [
    "g_labels = ['Male', 'Female']\n",
    "c_labels = ['No', 'Yes']\n",
    "# Create subplots: use 'domain' type for Pie subplot\n",
    "fig = make_subplots(rows=1, cols=2, specs=[[{'type':'domain'}, {'type':'domain'}]])\n",
    "fig.add_trace(go.Pie(labels=g_labels, values=df['gender'].value_counts(), name=\"Gender\"),\n",
    "              1, 1)\n",
    "fig.add_trace(go.Pie(labels=c_labels, values=df['Churn'].value_counts(), name=\"Churn\"),\n",
    "              1, 2)\n",
    "\n",
    "# Use `hole` to create a donut-like pie chart\n",
    "fig.update_traces(hole=.4, hoverinfo=\"label+percent+name\", textfont_size=16)\n",
    "\n",
    "fig.update_layout(\n",
    "    title_text=\"Gender and Churn Distributions\",\n",
    "    # Add annotations in the center of the donut pies.\n",
    "    annotations=[dict(text='Gender', x=0.16, y=0.5, font_size=20, showarrow=False),\n",
    "                 dict(text='Churn', x=0.84, y=0.5, font_size=20, showarrow=False)])\n",
    "fig.show()"
   ]
  },
  {
   "cell_type": "code",
   "execution_count": null,
   "id": "senior-mistress",
   "metadata": {
    "_kg_hide-input": true,
    "_kg_hide-output": true,
    "execution": {
     "iopub.execute_input": "2021-06-29T09:02:57.661244Z",
     "iopub.status.busy": "2021-06-29T09:02:57.659167Z",
     "iopub.status.idle": "2021-06-29T09:02:57.669645Z",
     "shell.execute_reply": "2021-06-29T09:02:57.669067Z",
     "shell.execute_reply.started": "2021-06-29T08:55:24.334833Z"
    },
    "papermill": {
     "duration": 0.115327,
     "end_time": "2021-06-29T09:02:57.669801",
     "exception": false,
     "start_time": "2021-06-29T09:02:57.554474",
     "status": "completed"
    },
    "tags": []
   },
   "outputs": [],
   "source": [
    "df[\"Churn\"][df[\"Churn\"]==\"No\"].groupby(by=df[\"gender\"]).count()"
   ]
  },
  {
   "cell_type": "code",
   "execution_count": null,
   "id": "residential-rider",
   "metadata": {
    "_kg_hide-input": true,
    "_kg_hide-output": true,
    "execution": {
     "iopub.execute_input": "2021-06-29T09:02:57.910115Z",
     "iopub.status.busy": "2021-06-29T09:02:57.909430Z",
     "iopub.status.idle": "2021-06-29T09:02:57.917952Z",
     "shell.execute_reply": "2021-06-29T09:02:57.917451Z",
     "shell.execute_reply.started": "2021-06-29T08:55:24.351494Z"
    },
    "papermill": {
     "duration": 0.113309,
     "end_time": "2021-06-29T09:02:57.918095",
     "exception": false,
     "start_time": "2021-06-29T09:02:57.804786",
     "status": "completed"
    },
    "tags": []
   },
   "outputs": [],
   "source": [
    "df[\"Churn\"][df[\"Churn\"]==\"Yes\"].groupby(by=df[\"gender\"]).count()"
   ]
  },
  {
   "cell_type": "code",
   "execution_count": null,
   "id": "final-embassy",
   "metadata": {
    "_kg_hide-input": true,
    "execution": {
     "iopub.execute_input": "2021-06-29T09:02:58.156216Z",
     "iopub.status.busy": "2021-06-29T09:02:58.154730Z",
     "iopub.status.idle": "2021-06-29T09:02:58.347165Z",
     "shell.execute_reply": "2021-06-29T09:02:58.346650Z",
     "shell.execute_reply.started": "2021-06-29T08:55:24.366672Z"
    },
    "papermill": {
     "duration": 0.330256,
     "end_time": "2021-06-29T09:02:58.347309",
     "exception": false,
     "start_time": "2021-06-29T09:02:58.017053",
     "status": "completed"
    },
    "tags": []
   },
   "outputs": [],
   "source": [
    "plt.figure(figsize=(6, 6))\n",
    "labels =[\"Churn: Yes\",\"Churn:No\"]\n",
    "values = [1869,5163]\n",
    "labels_gender = [\"F\",\"M\",\"F\",\"M\"]\n",
    "sizes_gender = [939,930 , 2544,2619]\n",
    "colors = ['#ff6666', '#66b3ff']\n",
    "colors_gender = ['#c2c2f0','#ffb3e6', '#c2c2f0','#ffb3e6']\n",
    "explode = (0.3,0.3) \n",
    "explode_gender = (0.1,0.1,0.1,0.1)\n",
    "textprops = {\"fontsize\":15}\n",
    "#Plot\n",
    "plt.pie(values, labels=labels,autopct='%1.1f%%',pctdistance=1.08, labeldistance=0.8,colors=colors, startangle=90,frame=True, explode=explode,radius=10, textprops =textprops, counterclock = True, )\n",
    "plt.pie(sizes_gender,labels=labels_gender,colors=colors_gender,startangle=90, explode=explode_gender,radius=7, textprops =textprops, counterclock = True, )\n",
    "#Draw circle\n",
    "centre_circle = plt.Circle((0,0),5,color='black', fc='white',linewidth=0)\n",
    "fig = plt.gcf()\n",
    "fig.gca().add_artist(centre_circle)\n",
    "\n",
    "plt.title('Churn Distribution w.r.t Gender: Male(M), Female(F)', fontsize=15, y=1.1)\n",
    "\n",
    "# show plot \n",
    " \n",
    "plt.axis('equal')\n",
    "plt.tight_layout()\n",
    "plt.show()"
   ]
  },
  {
   "cell_type": "code",
   "execution_count": null,
   "id": "passive-copper",
   "metadata": {
    "_kg_hide-input": true,
    "execution": {
     "iopub.execute_input": "2021-06-29T09:02:58.751125Z",
     "iopub.status.busy": "2021-06-29T09:02:58.750500Z",
     "iopub.status.idle": "2021-06-29T09:02:59.733499Z",
     "shell.execute_reply": "2021-06-29T09:02:59.734038Z",
     "shell.execute_reply.started": "2021-06-29T08:55:24.589768Z"
    },
    "papermill": {
     "duration": 1.087006,
     "end_time": "2021-06-29T09:02:59.734205",
     "exception": false,
     "start_time": "2021-06-29T09:02:58.647199",
     "status": "completed"
    },
    "tags": []
   },
   "outputs": [],
   "source": [
    "fig = px.histogram(df, x=\"Churn\", color=\"Contract\", barmode=\"group\", title=\"<b>Customer contract distribution<b>\")\n",
    "fig.update_layout(width=700, height=500, bargap=0.1)\n",
    "fig.show()"
   ]
  },
  {
   "cell_type": "code",
   "execution_count": null,
   "id": "governing-makeup",
   "metadata": {
    "_kg_hide-input": true,
    "execution": {
     "iopub.execute_input": "2021-06-29T09:03:00.158612Z",
     "iopub.status.busy": "2021-06-29T09:03:00.157604Z",
     "iopub.status.idle": "2021-06-29T09:03:00.172275Z",
     "shell.execute_reply": "2021-06-29T09:03:00.171759Z",
     "shell.execute_reply.started": "2021-06-29T08:55:25.677594Z"
    },
    "papermill": {
     "duration": 0.124947,
     "end_time": "2021-06-29T09:03:00.172448",
     "exception": false,
     "start_time": "2021-06-29T09:03:00.047501",
     "status": "completed"
    },
    "tags": []
   },
   "outputs": [],
   "source": [
    "labels = df['PaymentMethod'].unique()\n",
    "values = df['PaymentMethod'].value_counts()\n",
    "\n",
    "fig = go.Figure(data=[go.Pie(labels=labels, values=values, hole=.3)])\n",
    "fig.update_layout(title_text=\"<b>Payment Method Distribution</b>\")\n",
    "fig.show()"
   ]
  },
  {
   "cell_type": "code",
   "execution_count": null,
   "id": "enormous-silly",
   "metadata": {
    "_kg_hide-input": true,
    "execution": {
     "iopub.execute_input": "2021-06-29T09:03:00.536820Z",
     "iopub.status.busy": "2021-06-29T09:03:00.535828Z",
     "iopub.status.idle": "2021-06-29T09:03:00.649234Z",
     "shell.execute_reply": "2021-06-29T09:03:00.649743Z",
     "shell.execute_reply.started": "2021-06-29T08:55:25.695493Z"
    },
    "papermill": {
     "duration": 0.371956,
     "end_time": "2021-06-29T09:03:00.649910",
     "exception": false,
     "start_time": "2021-06-29T09:03:00.277954",
     "status": "completed"
    },
    "tags": []
   },
   "outputs": [],
   "source": [
    "fig = px.histogram(df, x=\"Churn\", color=\"PaymentMethod\", title=\"<b>Customer Payment Method distribution w.r.t. Churn</b>\")\n",
    "fig.update_layout(width=700, height=500, bargap=0.1)\n",
    "fig.show()"
   ]
  },
  {
   "cell_type": "code",
   "execution_count": null,
   "id": "charming-hollywood",
   "metadata": {
    "_kg_hide-input": true,
    "_kg_hide-output": true,
    "execution": {
     "iopub.execute_input": "2021-06-29T09:03:01.074572Z",
     "iopub.status.busy": "2021-06-29T09:03:01.073670Z",
     "iopub.status.idle": "2021-06-29T09:03:01.077953Z",
     "shell.execute_reply": "2021-06-29T09:03:01.077349Z",
     "shell.execute_reply.started": "2021-06-29T08:55:25.831685Z"
    },
    "papermill": {
     "duration": 0.11552,
     "end_time": "2021-06-29T09:03:01.078085",
     "exception": false,
     "start_time": "2021-06-29T09:03:00.962565",
     "status": "completed"
    },
    "tags": []
   },
   "outputs": [],
   "source": [
    "df[\"InternetService\"].unique()"
   ]
  },
  {
   "cell_type": "code",
   "execution_count": null,
   "id": "advanced-destination",
   "metadata": {
    "_kg_hide-input": true,
    "_kg_hide-output": true,
    "execution": {
     "iopub.execute_input": "2021-06-29T09:03:01.295183Z",
     "iopub.status.busy": "2021-06-29T09:03:01.294459Z",
     "iopub.status.idle": "2021-06-29T09:03:01.306857Z",
     "shell.execute_reply": "2021-06-29T09:03:01.307353Z",
     "shell.execute_reply.started": "2021-06-29T08:55:25.842530Z"
    },
    "papermill": {
     "duration": 0.124997,
     "end_time": "2021-06-29T09:03:01.307569",
     "exception": false,
     "start_time": "2021-06-29T09:03:01.182572",
     "status": "completed"
    },
    "tags": []
   },
   "outputs": [],
   "source": [
    " df[df[\"gender\"]==\"Male\"][[\"InternetService\", \"Churn\"]].value_counts()"
   ]
  },
  {
   "cell_type": "code",
   "execution_count": null,
   "id": "useful-plane",
   "metadata": {
    "_kg_hide-input": true,
    "_kg_hide-output": true,
    "execution": {
     "iopub.execute_input": "2021-06-29T09:03:01.529345Z",
     "iopub.status.busy": "2021-06-29T09:03:01.525975Z",
     "iopub.status.idle": "2021-06-29T09:03:01.538392Z",
     "shell.execute_reply": "2021-06-29T09:03:01.537759Z",
     "shell.execute_reply.started": "2021-06-29T08:55:25.864726Z"
    },
    "papermill": {
     "duration": 0.124604,
     "end_time": "2021-06-29T09:03:01.538534",
     "exception": false,
     "start_time": "2021-06-29T09:03:01.413930",
     "status": "completed"
    },
    "tags": []
   },
   "outputs": [],
   "source": [
    "df[df[\"gender\"]==\"Female\"][[\"InternetService\", \"Churn\"]].value_counts()"
   ]
  },
  {
   "cell_type": "code",
   "execution_count": null,
   "id": "dutch-confusion",
   "metadata": {
    "_kg_hide-input": true,
    "execution": {
     "iopub.execute_input": "2021-06-29T09:03:01.754025Z",
     "iopub.status.busy": "2021-06-29T09:03:01.753028Z",
     "iopub.status.idle": "2021-06-29T09:03:01.775182Z",
     "shell.execute_reply": "2021-06-29T09:03:01.774661Z",
     "shell.execute_reply.started": "2021-06-29T08:55:25.882986Z"
    },
    "papermill": {
     "duration": 0.130832,
     "end_time": "2021-06-29T09:03:01.775329",
     "exception": false,
     "start_time": "2021-06-29T09:03:01.644497",
     "status": "completed"
    },
    "tags": []
   },
   "outputs": [],
   "source": [
    "fig = go.Figure()\n",
    "\n",
    "fig.add_trace(go.Bar(\n",
    "  x = [['Churn:No', 'Churn:No', 'Churn:Yes', 'Churn:Yes'],\n",
    "       [\"Female\", \"Male\", \"Female\", \"Male\"]],\n",
    "  y = [965, 992, 219, 240],\n",
    "  name = 'DSL',\n",
    "))\n",
    "\n",
    "fig.add_trace(go.Bar(\n",
    "  x = [['Churn:No', 'Churn:No', 'Churn:Yes', 'Churn:Yes'],\n",
    "       [\"Female\", \"Male\", \"Female\", \"Male\"]],\n",
    "  y = [889, 910, 664, 633],\n",
    "  name = 'Fiber optic',\n",
    "))\n",
    "\n",
    "fig.add_trace(go.Bar(\n",
    "  x = [['Churn:No', 'Churn:No', 'Churn:Yes', 'Churn:Yes'],\n",
    "       [\"Female\", \"Male\", \"Female\", \"Male\"]],\n",
    "  y = [690, 717, 56, 57],\n",
    "  name = 'No Internet',\n",
    "))\n",
    "\n",
    "fig.update_layout(title_text=\"<b>Churn Distribution w.r.t. Internet Service and Gender</b>\")\n",
    "\n",
    "fig.show()"
   ]
  },
  {
   "cell_type": "code",
   "execution_count": null,
   "id": "descending-hours",
   "metadata": {
    "_kg_hide-input": true,
    "execution": {
     "iopub.execute_input": "2021-06-29T09:03:02.229398Z",
     "iopub.status.busy": "2021-06-29T09:03:02.228657Z",
     "iopub.status.idle": "2021-06-29T09:03:02.334854Z",
     "shell.execute_reply": "2021-06-29T09:03:02.335670Z",
     "shell.execute_reply.started": "2021-06-29T08:55:25.907958Z"
    },
    "papermill": {
     "duration": 0.239338,
     "end_time": "2021-06-29T09:03:02.335885",
     "exception": false,
     "start_time": "2021-06-29T09:03:02.096547",
     "status": "completed"
    },
    "tags": []
   },
   "outputs": [],
   "source": [
    "color_map = {\"Yes\": \"#FF97FF\", \"No\": \"#AB63FA\"}\n",
    "fig = px.histogram(df, x=\"Churn\", color=\"Dependents\", barmode=\"group\", title=\"<b>Dependents distribution</b>\", color_discrete_map=color_map)\n",
    "fig.update_layout(width=700, height=500, bargap=0.1)\n",
    "fig.show()"
   ]
  },
  {
   "cell_type": "code",
   "execution_count": null,
   "id": "metropolitan-carpet",
   "metadata": {
    "_kg_hide-input": true,
    "execution": {
     "iopub.execute_input": "2021-06-29T09:03:02.775190Z",
     "iopub.status.busy": "2021-06-29T09:03:02.774502Z",
     "iopub.status.idle": "2021-06-29T09:03:02.898296Z",
     "shell.execute_reply": "2021-06-29T09:03:02.898816Z",
     "shell.execute_reply.started": "2021-06-29T08:55:26.033511Z"
    },
    "papermill": {
     "duration": 0.236337,
     "end_time": "2021-06-29T09:03:02.899000",
     "exception": false,
     "start_time": "2021-06-29T09:03:02.662663",
     "status": "completed"
    },
    "tags": []
   },
   "outputs": [],
   "source": [
    "color_map = {\"Yes\": '#FFA15A', \"No\": '#00CC96'}\n",
    "fig = px.histogram(df, x=\"Churn\", color=\"Partner\", barmode=\"group\", title=\"<b>Chrun distribution w.r.t. Partners</b>\", color_discrete_map=color_map)\n",
    "fig.update_layout(width=700, height=500, bargap=0.1)\n",
    "fig.show()"
   ]
  },
  {
   "cell_type": "code",
   "execution_count": null,
   "id": "silent-institution",
   "metadata": {
    "_kg_hide-input": true,
    "execution": {
     "iopub.execute_input": "2021-06-29T09:03:03.370414Z",
     "iopub.status.busy": "2021-06-29T09:03:03.351442Z",
     "iopub.status.idle": "2021-06-29T09:03:03.480588Z",
     "shell.execute_reply": "2021-06-29T09:03:03.479873Z",
     "shell.execute_reply.started": "2021-06-29T08:55:26.154794Z"
    },
    "papermill": {
     "duration": 0.246169,
     "end_time": "2021-06-29T09:03:03.480751",
     "exception": false,
     "start_time": "2021-06-29T09:03:03.234582",
     "status": "completed"
    },
    "tags": []
   },
   "outputs": [],
   "source": [
    "color_map = {\"Yes\": '#00CC96', \"No\": '#B6E880'}\n",
    "fig = px.histogram(df, x=\"Churn\", color=\"SeniorCitizen\", title=\"<b>Chrun distribution w.r.t. Senior Citizen</b>\", color_discrete_map=color_map)\n",
    "fig.update_layout(width=700, height=500, bargap=0.1)\n",
    "fig.show()"
   ]
  },
  {
   "cell_type": "code",
   "execution_count": null,
   "id": "assisted-capability",
   "metadata": {
    "_kg_hide-input": true,
    "execution": {
     "iopub.execute_input": "2021-06-29T09:03:03.958534Z",
     "iopub.status.busy": "2021-06-29T09:03:03.957728Z",
     "iopub.status.idle": "2021-06-29T09:03:04.066272Z",
     "shell.execute_reply": "2021-06-29T09:03:04.066782Z",
     "shell.execute_reply.started": "2021-06-29T08:55:26.275667Z"
    },
    "papermill": {
     "duration": 0.243914,
     "end_time": "2021-06-29T09:03:04.066952",
     "exception": false,
     "start_time": "2021-06-29T09:03:03.823038",
     "status": "completed"
    },
    "tags": []
   },
   "outputs": [],
   "source": [
    "color_map = {\"Yes\": \"#FF97FF\", \"No\": \"#AB63FA\"}\n",
    "fig = px.histogram(df, x=\"Churn\", color=\"OnlineSecurity\", barmode=\"group\", title=\"<b>Churn w.r.t Online Security</b>\", color_discrete_map=color_map)\n",
    "fig.update_layout(width=700, height=500, bargap=0.1)\n",
    "fig.show()"
   ]
  },
  {
   "cell_type": "code",
   "execution_count": null,
   "id": "adverse-ultimate",
   "metadata": {
    "_kg_hide-input": true,
    "execution": {
     "iopub.execute_input": "2021-06-29T09:03:04.532069Z",
     "iopub.status.busy": "2021-06-29T09:03:04.531386Z",
     "iopub.status.idle": "2021-06-29T09:03:04.652604Z",
     "shell.execute_reply": "2021-06-29T09:03:04.653087Z",
     "shell.execute_reply.started": "2021-06-29T08:55:26.402672Z"
    },
    "papermill": {
     "duration": 0.239186,
     "end_time": "2021-06-29T09:03:04.653252",
     "exception": false,
     "start_time": "2021-06-29T09:03:04.414066",
     "status": "completed"
    },
    "tags": []
   },
   "outputs": [],
   "source": [
    "color_map = {\"Yes\": '#FFA15A', \"No\": '#00CC96'}\n",
    "fig = px.histogram(df, x=\"Churn\", color=\"PaperlessBilling\",  title=\"<b>Chrun distribution w.r.t. Paperless Billing</b>\", color_discrete_map=color_map)\n",
    "fig.update_layout(width=700, height=500, bargap=0.1)\n",
    "fig.show()"
   ]
  },
  {
   "cell_type": "code",
   "execution_count": null,
   "id": "medieval-exclusion",
   "metadata": {
    "_kg_hide-input": true,
    "execution": {
     "iopub.execute_input": "2021-06-29T09:03:05.133006Z",
     "iopub.status.busy": "2021-06-29T09:03:05.132353Z",
     "iopub.status.idle": "2021-06-29T09:03:05.255793Z",
     "shell.execute_reply": "2021-06-29T09:03:05.256283Z",
     "shell.execute_reply.started": "2021-06-29T08:55:26.526228Z"
    },
    "papermill": {
     "duration": 0.24287,
     "end_time": "2021-06-29T09:03:05.256470",
     "exception": false,
     "start_time": "2021-06-29T09:03:05.013600",
     "status": "completed"
    },
    "tags": []
   },
   "outputs": [],
   "source": [
    "fig = px.histogram(df, x=\"Churn\", color=\"TechSupport\",barmode=\"group\",  title=\"<b>Chrun distribution w.r.t. TechSupport</b>\")\n",
    "fig.update_layout(width=700, height=500, bargap=0.1)\n",
    "fig.show()"
   ]
  },
  {
   "cell_type": "code",
   "execution_count": null,
   "id": "ordinary-token",
   "metadata": {
    "_kg_hide-input": true,
    "execution": {
     "iopub.execute_input": "2021-06-29T09:03:05.735550Z",
     "iopub.status.busy": "2021-06-29T09:03:05.734778Z",
     "iopub.status.idle": "2021-06-29T09:03:05.857455Z",
     "shell.execute_reply": "2021-06-29T09:03:05.857951Z",
     "shell.execute_reply.started": "2021-06-29T08:55:26.656452Z"
    },
    "papermill": {
     "duration": 0.244227,
     "end_time": "2021-06-29T09:03:05.858120",
     "exception": false,
     "start_time": "2021-06-29T09:03:05.613893",
     "status": "completed"
    },
    "tags": []
   },
   "outputs": [],
   "source": [
    "color_map = {\"Yes\": '#00CC96', \"No\": '#B6E880'}\n",
    "fig = px.histogram(df, x=\"Churn\", color=\"PhoneService\", title=\"<b>Chrun distribution w.r.t. Phone Service</b>\", color_discrete_map=color_map)\n",
    "fig.update_layout(width=700, height=500, bargap=0.1)\n",
    "fig.show()"
   ]
  },
  {
   "cell_type": "code",
   "execution_count": null,
   "id": "relevant-henry",
   "metadata": {
    "_kg_hide-input": true,
    "execution": {
     "iopub.execute_input": "2021-06-29T09:03:06.347081Z",
     "iopub.status.busy": "2021-06-29T09:03:06.346487Z",
     "iopub.status.idle": "2021-06-29T09:03:06.603866Z",
     "shell.execute_reply": "2021-06-29T09:03:06.603143Z",
     "shell.execute_reply.started": "2021-06-29T08:55:26.779105Z"
    },
    "papermill": {
     "duration": 0.381588,
     "end_time": "2021-06-29T09:03:06.604017",
     "exception": false,
     "start_time": "2021-06-29T09:03:06.222429",
     "status": "completed"
    },
    "tags": []
   },
   "outputs": [],
   "source": [
    "sns.set_context(\"paper\",font_scale=1.1)\n",
    "ax = sns.kdeplot(df.MonthlyCharges[(df[\"Churn\"] == 'No') ],\n",
    "                color=\"Red\", shade = True);\n",
    "ax = sns.kdeplot(df.MonthlyCharges[(df[\"Churn\"] == 'Yes') ],\n",
    "                ax =ax, color=\"Blue\", shade= True);\n",
    "ax.legend([\"Not Churn\",\"Churn\"],loc='upper right');\n",
    "ax.set_ylabel('Density');\n",
    "ax.set_xlabel('Monthly Charges');\n",
    "ax.set_title('Distribution of monthly charges by churn');\n"
   ]
  },
  {
   "cell_type": "code",
   "execution_count": null,
   "id": "deluxe-basics",
   "metadata": {
    "_kg_hide-input": true,
    "execution": {
     "iopub.execute_input": "2021-06-29T09:03:07.103613Z",
     "iopub.status.busy": "2021-06-29T09:03:07.102909Z",
     "iopub.status.idle": "2021-06-29T09:03:07.316563Z",
     "shell.execute_reply": "2021-06-29T09:03:07.317079Z",
     "shell.execute_reply.started": "2021-06-29T08:55:27.034669Z"
    },
    "papermill": {
     "duration": 0.345661,
     "end_time": "2021-06-29T09:03:07.317256",
     "exception": false,
     "start_time": "2021-06-29T09:03:06.971595",
     "status": "completed"
    },
    "tags": []
   },
   "outputs": [],
   "source": [
    "ax = sns.kdeplot(df.TotalCharges[(df[\"Churn\"] == 'No') ],\n",
    "                color=\"Gold\", shade = True);\n",
    "ax = sns.kdeplot(df.TotalCharges[(df[\"Churn\"] == 'Yes') ],\n",
    "                ax =ax, color=\"Green\", shade= True);\n",
    "ax.legend([\"Not Chu0rn\",\"Churn\"],loc='upper right');\n",
    "ax.set_ylabel('Density');\n",
    "ax.set_xlabel('Total Charges');\n",
    "ax.set_title('Distribution of total charges by churn');"
   ]
  },
  {
   "cell_type": "code",
   "execution_count": null,
   "id": "british-password",
   "metadata": {
    "_kg_hide-input": true,
    "execution": {
     "iopub.execute_input": "2021-06-29T09:03:07.569253Z",
     "iopub.status.busy": "2021-06-29T09:03:07.568591Z",
     "iopub.status.idle": "2021-06-29T09:03:07.730934Z",
     "shell.execute_reply": "2021-06-29T09:03:07.731418Z",
     "shell.execute_reply.started": "2021-06-29T08:55:27.257034Z"
    },
    "papermill": {
     "duration": 0.290404,
     "end_time": "2021-06-29T09:03:07.731588",
     "exception": false,
     "start_time": "2021-06-29T09:03:07.441184",
     "status": "completed"
    },
    "tags": []
   },
   "outputs": [],
   "source": [
    "fig = px.box(df, x='Churn', y = 'tenure')\n",
    "\n",
    "# Update yaxis properties\n",
    "fig.update_yaxes(title_text='Tenure (Months)', row=1, col=1)\n",
    "# Update xaxis properties\n",
    "fig.update_xaxes(title_text='Churn', row=1, col=1)\n",
    "\n",
    "# Update size and title\n",
    "fig.update_layout(autosize=True, width=750, height=600,\n",
    "    title_font=dict(size=25, family='Courier'),\n",
    "    title='<b>Tenure vs Churn</b>',\n",
    ")\n",
    "\n",
    "fig.show()\n"
   ]
  },
  {
   "cell_type": "code",
   "execution_count": null,
   "id": "intermediate-olive",
   "metadata": {
    "execution": {
     "iopub.execute_input": "2021-06-29T09:03:08.244323Z",
     "iopub.status.busy": "2021-06-29T09:03:08.243301Z",
     "iopub.status.idle": "2021-06-29T09:03:09.602740Z",
     "shell.execute_reply": "2021-06-29T09:03:09.603251Z",
     "shell.execute_reply.started": "2021-06-29T08:55:27.424358Z"
    },
    "papermill": {
     "duration": 1.493242,
     "end_time": "2021-06-29T09:03:09.603439",
     "exception": false,
     "start_time": "2021-06-29T09:03:08.110197",
     "status": "completed"
    },
    "tags": []
   },
   "outputs": [],
   "source": [
    "plt.figure(figsize=(25, 10))\n",
    "\n",
    "corr = df.apply(lambda x: pd.factorize(x)[0]).corr()\n",
    "\n",
    "mask = np.triu(np.ones_like(corr, dtype=bool))\n",
    "\n",
    "ax = sns.heatmap(corr, mask=mask, xticklabels=corr.columns, yticklabels=corr.columns, annot=True, linewidths=.2, cmap='coolwarm', vmin=-1, vmax=1)"
   ]
  },
  {
   "cell_type": "markdown",
   "id": "social-freight",
   "metadata": {
    "papermill": {
     "duration": 0.131252,
     "end_time": "2021-06-29T09:03:09.867185",
     "exception": false,
     "start_time": "2021-06-29T09:03:09.735933",
     "status": "completed"
    },
    "tags": []
   },
   "source": [
    "___"
   ]
  },
  {
   "cell_type": "markdown",
   "id": "married-array",
   "metadata": {
    "papermill": {
     "duration": 0.137702,
     "end_time": "2021-06-29T09:03:10.137885",
     "exception": false,
     "start_time": "2021-06-29T09:03:10.000183",
     "status": "completed"
    },
    "tags": []
   },
   "source": [
    "<a id = \"10\" ></a>\n",
    "# <span style=\"font-family:serif; font-size:28px;\"> 7. Data Preprocessing</span>\n"
   ]
  },
  {
   "cell_type": "markdown",
   "id": "basic-dependence",
   "metadata": {
    "papermill": {
     "duration": 0.133483,
     "end_time": "2021-06-29T09:03:10.402788",
     "exception": false,
     "start_time": "2021-06-29T09:03:10.269305",
     "status": "completed"
    },
    "tags": []
   },
   "source": [
    "<a id = \"1111\" ></a>\n",
    "#### **Splitting the data into train and test sets**\n",
    "<a id = \"Split\" ></a>"
   ]
  },
  {
   "cell_type": "code",
   "execution_count": null,
   "id": "wicked-directive",
   "metadata": {
    "execution": {
     "iopub.execute_input": "2021-06-29T09:03:10.671793Z",
     "iopub.status.busy": "2021-06-29T09:03:10.670843Z",
     "iopub.status.idle": "2021-06-29T09:03:10.675250Z",
     "shell.execute_reply": "2021-06-29T09:03:10.675725Z",
     "shell.execute_reply.started": "2021-06-29T08:55:28.753167Z"
    },
    "papermill": {
     "duration": 0.140369,
     "end_time": "2021-06-29T09:03:10.675897",
     "exception": false,
     "start_time": "2021-06-29T09:03:10.535528",
     "status": "completed"
    },
    "tags": []
   },
   "outputs": [],
   "source": [
    "def object_to_int(dataframe_series):\n",
    "    if dataframe_series.dtype=='object':\n",
    "        dataframe_series = LabelEncoder().fit_transform(dataframe_series)\n",
    "    return dataframe_series"
   ]
  },
  {
   "cell_type": "code",
   "execution_count": null,
   "id": "verbal-culture",
   "metadata": {
    "execution": {
     "iopub.execute_input": "2021-06-29T09:03:10.942691Z",
     "iopub.status.busy": "2021-06-29T09:03:10.941722Z",
     "iopub.status.idle": "2021-06-29T09:03:11.003593Z",
     "shell.execute_reply": "2021-06-29T09:03:11.004074Z",
     "shell.execute_reply.started": "2021-06-29T08:55:28.761028Z"
    },
    "papermill": {
     "duration": 0.19759,
     "end_time": "2021-06-29T09:03:11.004256",
     "exception": false,
     "start_time": "2021-06-29T09:03:10.806666",
     "status": "completed"
    },
    "tags": []
   },
   "outputs": [],
   "source": [
    "df = df.apply(lambda x: object_to_int(x))\n",
    "df.head()"
   ]
  },
  {
   "cell_type": "code",
   "execution_count": null,
   "id": "cheap-writing",
   "metadata": {
    "execution": {
     "iopub.execute_input": "2021-06-29T09:03:11.270643Z",
     "iopub.status.busy": "2021-06-29T09:03:11.269668Z",
     "iopub.status.idle": "2021-06-29T09:03:11.289993Z",
     "shell.execute_reply": "2021-06-29T09:03:11.290504Z",
     "shell.execute_reply.started": "2021-06-29T08:55:28.836618Z"
    },
    "papermill": {
     "duration": 0.154339,
     "end_time": "2021-06-29T09:03:11.290684",
     "exception": false,
     "start_time": "2021-06-29T09:03:11.136345",
     "status": "completed"
    },
    "tags": []
   },
   "outputs": [],
   "source": [
    "plt.figure(figsize=(14,7))\n",
    "df.corr()['Churn'].sort_values(ascending = False)"
   ]
  },
  {
   "cell_type": "code",
   "execution_count": null,
   "id": "confirmed-daisy",
   "metadata": {
    "execution": {
     "iopub.execute_input": "2021-06-29T09:03:11.559479Z",
     "iopub.status.busy": "2021-06-29T09:03:11.558779Z",
     "iopub.status.idle": "2021-06-29T09:03:11.563957Z",
     "shell.execute_reply": "2021-06-29T09:03:11.564443Z",
     "shell.execute_reply.started": "2021-06-29T08:55:28.861461Z"
    },
    "papermill": {
     "duration": 0.14135,
     "end_time": "2021-06-29T09:03:11.564626",
     "exception": false,
     "start_time": "2021-06-29T09:03:11.423276",
     "status": "completed"
    },
    "tags": []
   },
   "outputs": [],
   "source": [
    "X = df.drop(columns = ['Churn'])\n",
    "y = df['Churn'].values"
   ]
  },
  {
   "cell_type": "code",
   "execution_count": null,
   "id": "medium-architecture",
   "metadata": {
    "execution": {
     "iopub.execute_input": "2021-06-29T09:03:11.835990Z",
     "iopub.status.busy": "2021-06-29T09:03:11.835342Z",
     "iopub.status.idle": "2021-06-29T09:03:11.848155Z",
     "shell.execute_reply": "2021-06-29T09:03:11.847630Z",
     "shell.execute_reply.started": "2021-06-29T08:55:28.870167Z"
    },
    "papermill": {
     "duration": 0.148807,
     "end_time": "2021-06-29T09:03:11.848327",
     "exception": false,
     "start_time": "2021-06-29T09:03:11.699520",
     "status": "completed"
    },
    "tags": []
   },
   "outputs": [],
   "source": [
    "X_train, X_test, y_train, y_test = train_test_split(X,y,test_size = 0.30, random_state = 40, stratify=y)"
   ]
  },
  {
   "cell_type": "code",
   "execution_count": null,
   "id": "moderate-civilian",
   "metadata": {
    "execution": {
     "iopub.execute_input": "2021-06-29T09:03:12.121779Z",
     "iopub.status.busy": "2021-06-29T09:03:12.120960Z",
     "iopub.status.idle": "2021-06-29T09:03:12.125731Z",
     "shell.execute_reply": "2021-06-29T09:03:12.126275Z",
     "shell.execute_reply.started": "2021-06-29T08:55:28.892174Z"
    },
    "papermill": {
     "duration": 0.143783,
     "end_time": "2021-06-29T09:03:12.126481",
     "exception": false,
     "start_time": "2021-06-29T09:03:11.982698",
     "status": "completed"
    },
    "tags": []
   },
   "outputs": [],
   "source": [
    "def distplot(feature, frame, color='r'):\n",
    "    plt.figure(figsize=(8,3))\n",
    "    plt.title(\"Distribution for {}\".format(feature))\n",
    "    ax = sns.distplot(frame[feature], color= color)"
   ]
  },
  {
   "cell_type": "code",
   "execution_count": null,
   "id": "understanding-suite",
   "metadata": {
    "execution": {
     "iopub.execute_input": "2021-06-29T09:03:12.400576Z",
     "iopub.status.busy": "2021-06-29T09:03:12.399805Z",
     "iopub.status.idle": "2021-06-29T09:03:13.078166Z",
     "shell.execute_reply": "2021-06-29T09:03:13.078717Z",
     "shell.execute_reply.started": "2021-06-29T08:55:28.899191Z"
    },
    "papermill": {
     "duration": 0.818452,
     "end_time": "2021-06-29T09:03:13.078895",
     "exception": false,
     "start_time": "2021-06-29T09:03:12.260443",
     "status": "completed"
    },
    "tags": []
   },
   "outputs": [],
   "source": [
    "num_cols = [\"tenure\", 'MonthlyCharges', 'TotalCharges']\n",
    "for feat in num_cols: distplot(feat, df)"
   ]
  },
  {
   "cell_type": "markdown",
   "id": "still-gabriel",
   "metadata": {
    "papermill": {
     "duration": 0.13559,
     "end_time": "2021-06-29T09:03:13.629181",
     "exception": false,
     "start_time": "2021-06-29T09:03:13.493591",
     "status": "completed"
    },
    "tags": []
   },
   "source": [
    "<a id = \"111\" ></a>\n",
    "#### **Standardizing numeric attributes**\n"
   ]
  },
  {
   "cell_type": "code",
   "execution_count": null,
   "id": "rational-massachusetts",
   "metadata": {
    "execution": {
     "iopub.execute_input": "2021-06-29T09:03:13.904156Z",
     "iopub.status.busy": "2021-06-29T09:03:13.903543Z",
     "iopub.status.idle": "2021-06-29T09:03:14.714904Z",
     "shell.execute_reply": "2021-06-29T09:03:14.714327Z",
     "shell.execute_reply.started": "2021-06-29T08:55:29.556183Z"
    },
    "papermill": {
     "duration": 0.949995,
     "end_time": "2021-06-29T09:03:14.715043",
     "exception": false,
     "start_time": "2021-06-29T09:03:13.765048",
     "status": "completed"
    },
    "tags": []
   },
   "outputs": [],
   "source": [
    "df_std = pd.DataFrame(StandardScaler().fit_transform(df[num_cols].astype('float64')),\n",
    "                       columns=num_cols)\n",
    "for feat in numerical_cols: distplot(feat, df_std, color='c')"
   ]
  },
  {
   "cell_type": "code",
   "execution_count": null,
   "id": "mysterious-pasta",
   "metadata": {
    "execution": {
     "iopub.execute_input": "2021-06-29T09:03:14.996645Z",
     "iopub.status.busy": "2021-06-29T09:03:14.995977Z",
     "iopub.status.idle": "2021-06-29T09:03:14.997948Z",
     "shell.execute_reply": "2021-06-29T09:03:14.998442Z",
     "shell.execute_reply.started": "2021-06-29T08:55:30.353283Z"
    },
    "papermill": {
     "duration": 0.144735,
     "end_time": "2021-06-29T09:03:14.998614",
     "exception": false,
     "start_time": "2021-06-29T09:03:14.853879",
     "status": "completed"
    },
    "tags": []
   },
   "outputs": [],
   "source": [
    "# Divide the columns into 3 categories, one ofor standardisation, one for label encoding and one for one hot encoding\n",
    "\n",
    "cat_cols_ohe =['PaymentMethod', 'Contract', 'InternetService'] # those that need one-hot encoding\n",
    "cat_cols_le = list(set(X_train.columns)- set(num_cols) - set(cat_cols_ohe)) #those that need label encoding"
   ]
  },
  {
   "cell_type": "code",
   "execution_count": null,
   "id": "medium-balloon",
   "metadata": {
    "execution": {
     "iopub.execute_input": "2021-06-29T09:03:15.281000Z",
     "iopub.status.busy": "2021-06-29T09:03:15.279916Z",
     "iopub.status.idle": "2021-06-29T09:03:15.301580Z",
     "shell.execute_reply": "2021-06-29T09:03:15.302083Z",
     "shell.execute_reply.started": "2021-06-29T08:55:30.359670Z"
    },
    "papermill": {
     "duration": 0.165021,
     "end_time": "2021-06-29T09:03:15.302258",
     "exception": false,
     "start_time": "2021-06-29T09:03:15.137237",
     "status": "completed"
    },
    "tags": []
   },
   "outputs": [],
   "source": [
    "scaler= StandardScaler()\n",
    "\n",
    "X_train[num_cols] = scaler.fit_transform(X_train[num_cols])\n",
    "X_test[num_cols] = scaler.transform(X_test[num_cols])"
   ]
  },
  {
   "cell_type": "markdown",
   "id": "positive-collar",
   "metadata": {
    "papermill": {
     "duration": 0.137287,
     "end_time": "2021-06-29T09:03:15.577264",
     "exception": false,
     "start_time": "2021-06-29T09:03:15.439977",
     "status": "completed"
    },
    "tags": []
   },
   "source": [
    "<a id = \"11\" ></a>\n",
    "# <span style=\"font-family:serif; font-size:28px;\"> 8. Machine Learning Model Evaluations and Predictions</span>\n",
    "<a id = \"modelprediction\" ></a>"
   ]
  },
  {
   "cell_type": "markdown",
   "id": "delayed-utility",
   "metadata": {
    "papermill": {
     "duration": 0.140501,
     "end_time": "2021-06-29T09:03:16.130328",
     "exception": false,
     "start_time": "2021-06-29T09:03:15.989827",
     "status": "completed"
    },
    "tags": []
   },
   "source": [
    "<a id = \"101\" ></a>\n",
    "#### <b> KNN</b>\n",
    "<a id = \"knn\" ></a>"
   ]
  },
  {
   "cell_type": "code",
   "execution_count": null,
   "id": "wicked-wales",
   "metadata": {
    "execution": {
     "iopub.execute_input": "2021-06-29T09:03:16.412286Z",
     "iopub.status.busy": "2021-06-29T09:03:16.411302Z",
     "iopub.status.idle": "2021-06-29T09:03:17.102818Z",
     "shell.execute_reply": "2021-06-29T09:03:17.102061Z",
     "shell.execute_reply.started": "2021-06-29T08:55:30.392776Z"
    },
    "papermill": {
     "duration": 0.833777,
     "end_time": "2021-06-29T09:03:17.102970",
     "exception": false,
     "start_time": "2021-06-29T09:03:16.269193",
     "status": "completed"
    },
    "tags": []
   },
   "outputs": [],
   "source": [
    "knn_model = KNeighborsClassifier(n_neighbors = 11) \n",
    "knn_model.fit(X_train,y_train)\n",
    "predicted_y = knn_model.predict(X_test)\n",
    "accuracy_knn = knn_model.score(X_test,y_test)\n",
    "print(\"KNN accuracy:\",accuracy_knn)"
   ]
  },
  {
   "cell_type": "code",
   "execution_count": null,
   "id": "personalized-theology",
   "metadata": {
    "execution": {
     "iopub.execute_input": "2021-06-29T09:03:17.383863Z",
     "iopub.status.busy": "2021-06-29T09:03:17.383165Z",
     "iopub.status.idle": "2021-06-29T09:03:17.395649Z",
     "shell.execute_reply": "2021-06-29T09:03:17.394729Z",
     "shell.execute_reply.started": "2021-06-29T08:56:22.232204Z"
    },
    "papermill": {
     "duration": 0.154929,
     "end_time": "2021-06-29T09:03:17.395846",
     "exception": false,
     "start_time": "2021-06-29T09:03:17.240917",
     "status": "completed"
    },
    "tags": []
   },
   "outputs": [],
   "source": [
    "print(classification_report(y_test, predicted_y))"
   ]
  },
  {
   "cell_type": "markdown",
   "id": "elect-adobe",
   "metadata": {
    "papermill": {
     "duration": 0.137578,
     "end_time": "2021-06-29T09:03:17.673862",
     "exception": false,
     "start_time": "2021-06-29T09:03:17.536284",
     "status": "completed"
    },
    "tags": []
   },
   "source": [
    "<a id = \"102\" ></a>\n",
    "#### <b>SVC</b>\n",
    "<a id = \"svc\" ></a>"
   ]
  },
  {
   "cell_type": "code",
   "execution_count": null,
   "id": "becoming-vegetable",
   "metadata": {
    "execution": {
     "iopub.execute_input": "2021-06-29T09:03:17.959215Z",
     "iopub.status.busy": "2021-06-29T09:03:17.958509Z",
     "iopub.status.idle": "2021-06-29T09:03:19.615970Z",
     "shell.execute_reply": "2021-06-29T09:03:19.616445Z",
     "shell.execute_reply.started": "2021-06-29T08:58:18.234695Z"
    },
    "papermill": {
     "duration": 1.803273,
     "end_time": "2021-06-29T09:03:19.616630",
     "exception": false,
     "start_time": "2021-06-29T09:03:17.813357",
     "status": "completed"
    },
    "tags": []
   },
   "outputs": [],
   "source": [
    "svc_model = SVC(random_state = 1)\n",
    "svc_model.fit(X_train,y_train)\n",
    "predict_y = svc_model.predict(X_test)\n",
    "accuracy_svc = svc_model.score(X_test,y_test)\n",
    "print(\"SVM accuracy is :\",accuracy_svc)"
   ]
  },
  {
   "cell_type": "code",
   "execution_count": null,
   "id": "surprising-antarctica",
   "metadata": {
    "execution": {
     "iopub.execute_input": "2021-06-29T09:03:19.920461Z",
     "iopub.status.busy": "2021-06-29T09:03:19.919805Z",
     "iopub.status.idle": "2021-06-29T09:03:19.933089Z",
     "shell.execute_reply": "2021-06-29T09:03:19.932578Z",
     "shell.execute_reply.started": "2021-06-29T08:58:26.682961Z"
    },
    "papermill": {
     "duration": 0.156011,
     "end_time": "2021-06-29T09:03:19.933238",
     "exception": false,
     "start_time": "2021-06-29T09:03:19.777227",
     "status": "completed"
    },
    "tags": []
   },
   "outputs": [],
   "source": [
    "print(classification_report(y_test, predict_y))"
   ]
  },
  {
   "cell_type": "markdown",
   "id": "green-boating",
   "metadata": {
    "papermill": {
     "duration": 0.13955,
     "end_time": "2021-06-29T09:03:20.212421",
     "exception": false,
     "start_time": "2021-06-29T09:03:20.072871",
     "status": "completed"
    },
    "tags": []
   },
   "source": [
    "<a id = \"103\" ></a>\n",
    "#### <b> Random Forest</b>\n",
    "<a id = \"rf\" ></a>"
   ]
  },
  {
   "cell_type": "code",
   "execution_count": null,
   "id": "victorian-springer",
   "metadata": {
    "execution": {
     "iopub.execute_input": "2021-06-29T09:03:20.503556Z",
     "iopub.status.busy": "2021-06-29T09:03:20.502849Z",
     "iopub.status.idle": "2021-06-29T09:03:22.792626Z",
     "shell.execute_reply": "2021-06-29T09:03:22.791999Z",
     "shell.execute_reply.started": "2021-06-29T08:55:32.341397Z"
    },
    "papermill": {
     "duration": 2.4373,
     "end_time": "2021-06-29T09:03:22.792785",
     "exception": false,
     "start_time": "2021-06-29T09:03:20.355485",
     "status": "completed"
    },
    "tags": []
   },
   "outputs": [],
   "source": [
    "model_rf = RandomForestClassifier(n_estimators=500 , oob_score = True, n_jobs = -1,\n",
    "                                  random_state =50, max_features = \"auto\",\n",
    "                                  max_leaf_nodes = 30)\n",
    "model_rf.fit(X_train, y_train)\n",
    "\n",
    "# Make predictions\n",
    "prediction_test = model_rf.predict(X_test)\n",
    "print (metrics.accuracy_score(y_test, prediction_test))"
   ]
  },
  {
   "cell_type": "code",
   "execution_count": null,
   "id": "promotional-prescription",
   "metadata": {
    "execution": {
     "iopub.execute_input": "2021-06-29T09:03:23.077820Z",
     "iopub.status.busy": "2021-06-29T09:03:23.077141Z",
     "iopub.status.idle": "2021-06-29T09:03:23.089014Z",
     "shell.execute_reply": "2021-06-29T09:03:23.088364Z",
     "shell.execute_reply.started": "2021-06-29T08:59:03.524077Z"
    },
    "papermill": {
     "duration": 0.154997,
     "end_time": "2021-06-29T09:03:23.089165",
     "exception": false,
     "start_time": "2021-06-29T09:03:22.934168",
     "status": "completed"
    },
    "tags": []
   },
   "outputs": [],
   "source": [
    "print(classification_report(y_test, prediction_test))"
   ]
  },
  {
   "cell_type": "code",
   "execution_count": null,
   "id": "democratic-salmon",
   "metadata": {
    "execution": {
     "iopub.execute_input": "2021-06-29T09:03:23.374652Z",
     "iopub.status.busy": "2021-06-29T09:03:23.373988Z",
     "iopub.status.idle": "2021-06-29T09:03:23.615200Z",
     "shell.execute_reply": "2021-06-29T09:03:23.614679Z",
     "shell.execute_reply.started": "2021-06-29T08:55:34.744032Z"
    },
    "papermill": {
     "duration": 0.385771,
     "end_time": "2021-06-29T09:03:23.615349",
     "exception": false,
     "start_time": "2021-06-29T09:03:23.229578",
     "status": "completed"
    },
    "tags": []
   },
   "outputs": [],
   "source": [
    "plt.figure(figsize=(4,3))\n",
    "sns.heatmap(confusion_matrix(y_test, prediction_test),\n",
    "                annot=True,fmt = \"d\",linecolor=\"k\",linewidths=3)\n",
    "    \n",
    "plt.title(\" RANDOM FOREST CONFUSION MATRIX\",fontsize=14)\n",
    "plt.show()"
   ]
  },
  {
   "cell_type": "code",
   "execution_count": null,
   "id": "stopped-modem",
   "metadata": {
    "execution": {
     "iopub.execute_input": "2021-06-29T09:03:23.907887Z",
     "iopub.status.busy": "2021-06-29T09:03:23.906872Z",
     "iopub.status.idle": "2021-06-29T09:03:24.255659Z",
     "shell.execute_reply": "2021-06-29T09:03:24.256170Z",
     "shell.execute_reply.started": "2021-06-29T08:55:34.983073Z"
    },
    "papermill": {
     "duration": 0.49813,
     "end_time": "2021-06-29T09:03:24.256355",
     "exception": false,
     "start_time": "2021-06-29T09:03:23.758225",
     "status": "completed"
    },
    "tags": []
   },
   "outputs": [],
   "source": [
    "y_rfpred_prob = model_rf.predict_proba(X_test)[:,1]\n",
    "fpr_rf, tpr_rf, thresholds = roc_curve(y_test, y_rfpred_prob)\n",
    "plt.plot([0, 1], [0, 1], 'k--' )\n",
    "plt.plot(fpr_rf, tpr_rf, label='Random Forest',color = \"r\")\n",
    "plt.xlabel('False Positive Rate')\n",
    "plt.ylabel('True Positive Rate')\n",
    "plt.title('Random Forest ROC Curve',fontsize=16)\n",
    "plt.show();"
   ]
  },
  {
   "cell_type": "markdown",
   "id": "smoking-signature",
   "metadata": {
    "papermill": {
     "duration": 0.141303,
     "end_time": "2021-06-29T09:03:24.539724",
     "exception": false,
     "start_time": "2021-06-29T09:03:24.398421",
     "status": "completed"
    },
    "tags": []
   },
   "source": [
    "<a id = \"104\" ></a>\n",
    "#### <b>Logistic Regression</b>\n",
    "<a id = \"lr\" ></a>"
   ]
  },
  {
   "cell_type": "code",
   "execution_count": null,
   "id": "applied-roots",
   "metadata": {
    "execution": {
     "iopub.execute_input": "2021-06-29T09:03:24.829506Z",
     "iopub.status.busy": "2021-06-29T09:03:24.828770Z",
     "iopub.status.idle": "2021-06-29T09:03:24.936666Z",
     "shell.execute_reply": "2021-06-29T09:03:24.937501Z",
     "shell.execute_reply.started": "2021-06-29T08:55:35.332050Z"
    },
    "papermill": {
     "duration": 0.25558,
     "end_time": "2021-06-29T09:03:24.937971",
     "exception": false,
     "start_time": "2021-06-29T09:03:24.682391",
     "status": "completed"
    },
    "tags": []
   },
   "outputs": [],
   "source": [
    "lr_model = LogisticRegression()\n",
    "lr_model.fit(X_train,y_train)\n",
    "accuracy_lr = lr_model.score(X_test,y_test)\n",
    "print(\"Logistic Regression accuracy is :\",accuracy_lr)"
   ]
  },
  {
   "cell_type": "code",
   "execution_count": null,
   "id": "played-green",
   "metadata": {
    "execution": {
     "iopub.execute_input": "2021-06-29T09:03:25.280286Z",
     "iopub.status.busy": "2021-06-29T09:03:25.279253Z",
     "iopub.status.idle": "2021-06-29T09:03:25.298716Z",
     "shell.execute_reply": "2021-06-29T09:03:25.300066Z",
     "shell.execute_reply.started": "2021-06-29T08:55:35.410441Z"
    },
    "papermill": {
     "duration": 0.169373,
     "end_time": "2021-06-29T09:03:25.300427",
     "exception": false,
     "start_time": "2021-06-29T09:03:25.131054",
     "status": "completed"
    },
    "tags": []
   },
   "outputs": [],
   "source": [
    "lr_pred= lr_model.predict(X_test)\n",
    "report = classification_report(y_test,lr_pred)\n",
    "print(report)"
   ]
  },
  {
   "cell_type": "code",
   "execution_count": null,
   "id": "confidential-valuation",
   "metadata": {
    "execution": {
     "iopub.execute_input": "2021-06-29T09:03:25.635811Z",
     "iopub.status.busy": "2021-06-29T09:03:25.634881Z",
     "iopub.status.idle": "2021-06-29T09:03:25.884151Z",
     "shell.execute_reply": "2021-06-29T09:03:25.883566Z",
     "shell.execute_reply.started": "2021-06-29T08:55:35.444640Z"
    },
    "papermill": {
     "duration": 0.397762,
     "end_time": "2021-06-29T09:03:25.884306",
     "exception": false,
     "start_time": "2021-06-29T09:03:25.486544",
     "status": "completed"
    },
    "tags": []
   },
   "outputs": [],
   "source": [
    "plt.figure(figsize=(4,3))\n",
    "sns.heatmap(confusion_matrix(y_test, lr_pred),\n",
    "                annot=True,fmt = \"d\",linecolor=\"k\",linewidths=3)\n",
    "    \n",
    "plt.title(\"LOGISTIC REGRESSION CONFUSION MATRIX\",fontsize=14)\n",
    "plt.show()"
   ]
  },
  {
   "cell_type": "code",
   "execution_count": null,
   "id": "engaged-examination",
   "metadata": {
    "execution": {
     "iopub.execute_input": "2021-06-29T09:03:26.206551Z",
     "iopub.status.busy": "2021-06-29T09:03:26.205546Z",
     "iopub.status.idle": "2021-06-29T09:03:26.416077Z",
     "shell.execute_reply": "2021-06-29T09:03:26.415570Z",
     "shell.execute_reply.started": "2021-06-29T08:55:35.715037Z"
    },
    "papermill": {
     "duration": 0.3681,
     "end_time": "2021-06-29T09:03:26.416228",
     "exception": false,
     "start_time": "2021-06-29T09:03:26.048128",
     "status": "completed"
    },
    "tags": []
   },
   "outputs": [],
   "source": [
    "y_pred_prob = lr_model.predict_proba(X_test)[:,1]\n",
    "fpr, tpr, thresholds = roc_curve(y_test, y_pred_prob)\n",
    "plt.plot([0, 1], [0, 1], 'k--' )\n",
    "plt.plot(fpr, tpr, label='Logistic Regression',color = \"r\")\n",
    "plt.xlabel('False Positive Rate')\n",
    "plt.ylabel('True Positive Rate')\n",
    "plt.title('Logistic Regression ROC Curve',fontsize=16)\n",
    "plt.show();"
   ]
  },
  {
   "cell_type": "markdown",
   "id": "patent-reynolds",
   "metadata": {
    "papermill": {
     "duration": 0.144826,
     "end_time": "2021-06-29T09:03:26.704677",
     "exception": false,
     "start_time": "2021-06-29T09:03:26.559851",
     "status": "completed"
    },
    "tags": []
   },
   "source": [
    "<a id = \"105\" ></a>\n",
    "#### **Decision Tree Classifier**\n",
    "<a id = \"dtc\" ></a>"
   ]
  },
  {
   "cell_type": "code",
   "execution_count": null,
   "id": "developing-screw",
   "metadata": {
    "execution": {
     "iopub.execute_input": "2021-06-29T09:03:27.003355Z",
     "iopub.status.busy": "2021-06-29T09:03:27.002323Z",
     "iopub.status.idle": "2021-06-29T09:03:27.036210Z",
     "shell.execute_reply": "2021-06-29T09:03:27.036891Z",
     "shell.execute_reply.started": "2021-06-29T09:00:45.625832Z"
    },
    "papermill": {
     "duration": 0.187343,
     "end_time": "2021-06-29T09:03:27.037155",
     "exception": false,
     "start_time": "2021-06-29T09:03:26.849812",
     "status": "completed"
    },
    "tags": []
   },
   "outputs": [],
   "source": [
    "dt_model = DecisionTreeClassifier()\n",
    "dt_model.fit(X_train,y_train)\n",
    "predictdt_y = dt_model.predict(X_test)\n",
    "accuracy_dt = dt_model.score(X_test,y_test)\n",
    "print(\"Decision Tree accuracy is :\",accuracy_dt)"
   ]
  },
  {
   "cell_type": "code",
   "execution_count": null,
   "id": "powerful-advance",
   "metadata": {
    "execution": {
     "iopub.execute_input": "2021-06-29T09:03:27.619910Z",
     "iopub.status.busy": "2021-06-29T09:03:27.618899Z",
     "iopub.status.idle": "2021-06-29T09:03:27.633488Z",
     "shell.execute_reply": "2021-06-29T09:03:27.632554Z",
     "shell.execute_reply.started": "2021-06-29T09:00:56.663959Z"
    },
    "papermill": {
     "duration": 0.162042,
     "end_time": "2021-06-29T09:03:27.633687",
     "exception": false,
     "start_time": "2021-06-29T09:03:27.471645",
     "status": "completed"
    },
    "tags": []
   },
   "outputs": [],
   "source": [
    "print(classification_report(y_test, predictdt_y))"
   ]
  },
  {
   "cell_type": "markdown",
   "id": "centered-timber",
   "metadata": {
    "papermill": {
     "duration": 0.144265,
     "end_time": "2021-06-29T09:03:27.925291",
     "exception": false,
     "start_time": "2021-06-29T09:03:27.781026",
     "status": "completed"
    },
    "tags": []
   },
   "source": [
    "<a id = \"106\" ></a>\n",
    "#### **AdaBoost Classifier**\n",
    "<a id = \"ada\" ></a>"
   ]
  },
  {
   "cell_type": "code",
   "execution_count": null,
   "id": "composed-designation",
   "metadata": {
    "execution": {
     "iopub.execute_input": "2021-06-29T09:03:28.217090Z",
     "iopub.status.busy": "2021-06-29T09:03:28.216360Z",
     "iopub.status.idle": "2021-06-29T09:03:28.524063Z",
     "shell.execute_reply": "2021-06-29T09:03:28.523175Z",
     "shell.execute_reply.started": "2021-06-29T08:55:35.952467Z"
    },
    "papermill": {
     "duration": 0.454938,
     "end_time": "2021-06-29T09:03:28.524254",
     "exception": false,
     "start_time": "2021-06-29T09:03:28.069316",
     "status": "completed"
    },
    "tags": []
   },
   "outputs": [],
   "source": [
    "a_model = AdaBoostClassifier()\n",
    "a_model.fit(X_train,y_train)\n",
    "a_preds = a_model.predict(X_test)\n",
    "print(\"AdaBoost Classifier accuracy\")\n",
    "metrics.accuracy_score(y_test, a_preds)"
   ]
  },
  {
   "cell_type": "code",
   "execution_count": null,
   "id": "annoying-indiana",
   "metadata": {
    "execution": {
     "iopub.execute_input": "2021-06-29T09:03:28.823141Z",
     "iopub.status.busy": "2021-06-29T09:03:28.822064Z",
     "iopub.status.idle": "2021-06-29T09:03:28.835416Z",
     "shell.execute_reply": "2021-06-29T09:03:28.834510Z",
     "shell.execute_reply.started": "2021-06-29T09:01:30.862950Z"
    },
    "papermill": {
     "duration": 0.165358,
     "end_time": "2021-06-29T09:03:28.835619",
     "exception": false,
     "start_time": "2021-06-29T09:03:28.670261",
     "status": "completed"
    },
    "tags": []
   },
   "outputs": [],
   "source": [
    "print(classification_report(y_test, a_preds))"
   ]
  },
  {
   "cell_type": "code",
   "execution_count": null,
   "id": "lasting-watts",
   "metadata": {
    "execution": {
     "iopub.execute_input": "2021-06-29T09:03:29.140207Z",
     "iopub.status.busy": "2021-06-29T09:03:29.139109Z",
     "iopub.status.idle": "2021-06-29T09:03:29.382458Z",
     "shell.execute_reply": "2021-06-29T09:03:29.381557Z",
     "shell.execute_reply.started": "2021-06-29T08:55:36.248919Z"
    },
    "papermill": {
     "duration": 0.399177,
     "end_time": "2021-06-29T09:03:29.382608",
     "exception": false,
     "start_time": "2021-06-29T09:03:28.983431",
     "status": "completed"
    },
    "tags": []
   },
   "outputs": [],
   "source": [
    "plt.figure(figsize=(4,3))\n",
    "sns.heatmap(confusion_matrix(y_test, a_preds),\n",
    "                annot=True,fmt = \"d\",linecolor=\"k\",linewidths=3)\n",
    "    \n",
    "plt.title(\"AdaBoost Classifier Confusion Matrix\",fontsize=14)\n",
    "plt.show()"
   ]
  },
  {
   "cell_type": "markdown",
   "id": "challenging-competition",
   "metadata": {
    "papermill": {
     "duration": 0.152788,
     "end_time": "2021-06-29T09:03:29.683931",
     "exception": false,
     "start_time": "2021-06-29T09:03:29.531143",
     "status": "completed"
    },
    "tags": []
   },
   "source": [
    "<a id = \"107\" ></a>\n",
    "#### **Gradient Boosting Classifier**\n",
    "<a id = \"gb\" ></a>"
   ]
  },
  {
   "cell_type": "code",
   "execution_count": null,
   "id": "plain-virginia",
   "metadata": {
    "execution": {
     "iopub.execute_input": "2021-06-29T09:03:29.991264Z",
     "iopub.status.busy": "2021-06-29T09:03:29.990627Z",
     "iopub.status.idle": "2021-06-29T09:03:30.745229Z",
     "shell.execute_reply": "2021-06-29T09:03:30.746130Z",
     "shell.execute_reply.started": "2021-06-29T08:55:36.482252Z"
    },
    "papermill": {
     "duration": 0.908752,
     "end_time": "2021-06-29T09:03:30.746331",
     "exception": false,
     "start_time": "2021-06-29T09:03:29.837579",
     "status": "completed"
    },
    "tags": []
   },
   "outputs": [],
   "source": [
    "gb = GradientBoostingClassifier()\n",
    "gb.fit(X_train, y_train)\n",
    "gb_pred = gb.predict(X_test)\n",
    "print(\"Gradient Boosting Classifier\", accuracy_score(y_test, gb_pred))"
   ]
  },
  {
   "cell_type": "code",
   "execution_count": null,
   "id": "affiliated-beauty",
   "metadata": {
    "execution": {
     "iopub.execute_input": "2021-06-29T09:03:31.054223Z",
     "iopub.status.busy": "2021-06-29T09:03:31.053595Z",
     "iopub.status.idle": "2021-06-29T09:03:31.063514Z",
     "shell.execute_reply": "2021-06-29T09:03:31.064022Z",
     "shell.execute_reply.started": "2021-06-29T09:01:48.524297Z"
    },
    "papermill": {
     "duration": 0.164291,
     "end_time": "2021-06-29T09:03:31.064198",
     "exception": false,
     "start_time": "2021-06-29T09:03:30.899907",
     "status": "completed"
    },
    "tags": []
   },
   "outputs": [],
   "source": [
    "print(classification_report(y_test, gb_pred))"
   ]
  },
  {
   "cell_type": "code",
   "execution_count": null,
   "id": "premier-genius",
   "metadata": {
    "execution": {
     "iopub.execute_input": "2021-06-29T09:03:31.359439Z",
     "iopub.status.busy": "2021-06-29T09:03:31.358766Z",
     "iopub.status.idle": "2021-06-29T09:03:31.597047Z",
     "shell.execute_reply": "2021-06-29T09:03:31.597528Z",
     "shell.execute_reply.started": "2021-06-29T08:55:37.216114Z"
    },
    "papermill": {
     "duration": 0.38681,
     "end_time": "2021-06-29T09:03:31.597738",
     "exception": false,
     "start_time": "2021-06-29T09:03:31.210928",
     "status": "completed"
    },
    "tags": []
   },
   "outputs": [],
   "source": [
    "plt.figure(figsize=(4,3))\n",
    "sns.heatmap(confusion_matrix(y_test, gb_pred),\n",
    "                annot=True,fmt = \"d\",linecolor=\"k\",linewidths=3)\n",
    "    \n",
    "plt.title(\"Gradient Boosting Classifier Confusion Matrix\",fontsize=14)\n",
    "plt.show()"
   ]
  },
  {
   "cell_type": "markdown",
   "id": "latin-silly",
   "metadata": {
    "papermill": {
     "duration": 0.150387,
     "end_time": "2021-06-29T09:03:31.898992",
     "exception": false,
     "start_time": "2021-06-29T09:03:31.748605",
     "status": "completed"
    },
    "tags": []
   },
   "source": [
    "<a id = \"108\" ></a>\n",
    "#### **Voting Classifier**\n"
   ]
  },
  {
   "cell_type": "code",
   "execution_count": null,
   "id": "according-sociology",
   "metadata": {
    "execution": {
     "iopub.execute_input": "2021-06-29T09:03:32.206685Z",
     "iopub.status.busy": "2021-06-29T09:03:32.205906Z",
     "iopub.status.idle": "2021-06-29T09:03:33.376857Z",
     "shell.execute_reply": "2021-06-29T09:03:33.377677Z",
     "shell.execute_reply.started": "2021-06-29T08:55:37.447591Z"
    },
    "papermill": {
     "duration": 1.328329,
     "end_time": "2021-06-29T09:03:33.377944",
     "exception": false,
     "start_time": "2021-06-29T09:03:32.049615",
     "status": "completed"
    },
    "tags": []
   },
   "outputs": [],
   "source": [
    "from sklearn.ensemble import VotingClassifier\n",
    "clf1 = GradientBoostingClassifier()\n",
    "clf2 = LogisticRegression()\n",
    "clf3 = AdaBoostClassifier()\n",
    "eclf1 = VotingClassifier(estimators=[('gbc', clf1), ('lr', clf2), ('abc', clf3)], voting='soft')\n",
    "eclf1.fit(X_train, y_train)\n",
    "predictions = eclf1.predict(X_test)\n",
    "print(\"Final Accuracy Score \")\n",
    "print(accuracy_score(y_test, predictions))"
   ]
  },
  {
   "cell_type": "code",
   "execution_count": null,
   "id": "confidential-future",
   "metadata": {
    "execution": {
     "iopub.execute_input": "2021-06-29T09:03:33.711279Z",
     "iopub.status.busy": "2021-06-29T09:03:33.710617Z",
     "iopub.status.idle": "2021-06-29T09:03:33.721622Z",
     "shell.execute_reply": "2021-06-29T09:03:33.722133Z",
     "shell.execute_reply.started": "2021-06-29T09:02:13.192644Z"
    },
    "papermill": {
     "duration": 0.165032,
     "end_time": "2021-06-29T09:03:33.722314",
     "exception": false,
     "start_time": "2021-06-29T09:03:33.557282",
     "status": "completed"
    },
    "tags": []
   },
   "outputs": [],
   "source": [
    "print(classification_report(y_test, predictions))"
   ]
  },
  {
   "cell_type": "code",
   "execution_count": null,
   "id": "approximate-coordination",
   "metadata": {
    "execution": {
     "iopub.execute_input": "2021-06-29T09:03:34.024467Z",
     "iopub.status.busy": "2021-06-29T09:03:34.023510Z",
     "iopub.status.idle": "2021-06-29T09:03:34.267216Z",
     "shell.execute_reply": "2021-06-29T09:03:34.266668Z",
     "shell.execute_reply.started": "2021-06-29T08:55:38.609162Z"
    },
    "papermill": {
     "duration": 0.395696,
     "end_time": "2021-06-29T09:03:34.267386",
     "exception": false,
     "start_time": "2021-06-29T09:03:33.871690",
     "status": "completed"
    },
    "tags": []
   },
   "outputs": [],
   "source": [
    "plt.figure(figsize=(4,3))\n",
    "sns.heatmap(confusion_matrix(y_test, predictions),\n",
    "                annot=True,fmt = \"d\",linecolor=\"k\",linewidths=3)\n",
    "    \n",
    "plt.title(\"FINAL CONFUSION MATRIX\",fontsize=14)\n",
    "plt.show()"
   ]
  }
 ],
 "metadata": {
  "kernelspec": {
   "display_name": "Python 3",
   "language": "python",
   "name": "python3"
  },
  "language_info": {
   "codemirror_mode": {
    "name": "ipython",
    "version": 3
   },
   "file_extension": ".py",
   "mimetype": "text/x-python",
   "name": "python",
   "nbconvert_exporter": "python",
   "pygments_lexer": "ipython3",
   "version": "3.7.10"
  },
  "papermill": {
   "default_parameters": {},
   "duration": 60.005711,
   "end_time": "2021-06-29T09:03:36.232671",
   "environment_variables": {},
   "exception": null,
   "input_path": "__notebook__.ipynb",
   "output_path": "__notebook__.ipynb",
   "parameters": {},
   "start_time": "2021-06-29T09:02:36.226960",
   "version": "2.3.3"
  }
 },
 "nbformat": 4,
 "nbformat_minor": 5
}
