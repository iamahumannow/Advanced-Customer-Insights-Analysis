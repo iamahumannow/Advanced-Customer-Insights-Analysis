{
 "cells": [
  {
   "cell_type": "markdown",
   "metadata": {
    "papermill": {
     "duration": 0.015617,
     "end_time": "2021-02-06T11:59:01.877099",
     "exception": false,
     "start_time": "2021-02-06T11:59:01.861482",
     "status": "completed"
    },
    "tags": []
   },
   "source": [
    "# **Customer Lifetime Value Prediction**"
   ]
  },
  {
   "cell_type": "markdown",
   "metadata": {
    "papermill": {
     "duration": 0.014753,
     "end_time": "2021-02-06T11:59:01.906549",
     "exception": false,
     "start_time": "2021-02-06T11:59:01.891796",
     "status": "completed"
    },
    "tags": []
   },
   "source": [
    "<p> Customer lifetime value is defined as the present value of a customer for the company based on projected future cash flows from the customer relationship. CLTV represents the total amount of money spent on the business or products over lifetime of a customer.</p>\n"
   ]
  },
  {
   "cell_type": "markdown",
   "metadata": {
    "papermill": {
     "duration": 0.013992,
     "end_time": "2021-02-06T11:59:01.934814",
     "exception": false,
     "start_time": "2021-02-06T11:59:01.920822",
     "status": "completed"
    },
    "tags": []
   },
   "source": [
    "## 1. Loading the Dataset & Checking Variables"
   ]
  },
  {
   "cell_type": "code",
   "execution_count": null,
   "metadata": {
    "_kg_hide-output": true,
    "collapsed": true,
    "execution": {
     "iopub.execute_input": "2021-02-06T11:59:02.025440Z",
     "iopub.status.busy": "2021-02-06T11:59:02.024743Z",
     "iopub.status.idle": "2021-02-06T11:59:12.074131Z",
     "shell.execute_reply": "2021-02-06T11:59:12.073396Z"
    },
    "papermill": {
     "duration": 10.066683,
     "end_time": "2021-02-06T11:59:12.074356",
     "exception": false,
     "start_time": "2021-02-06T11:59:02.007673",
     "status": "completed"
    },
    "tags": []
   },
   "outputs": [],
   "source": [
    "pip install openpyxl"
   ]
  },
  {
   "cell_type": "code",
   "execution_count": null,
   "metadata": {
    "_kg_hide-output": true,
    "collapsed": true,
    "execution": {
     "iopub.execute_input": "2021-02-06T11:59:12.121133Z",
     "iopub.status.busy": "2021-02-06T11:59:12.117655Z",
     "iopub.status.idle": "2021-02-06T11:59:18.529889Z",
     "shell.execute_reply": "2021-02-06T11:59:18.528999Z"
    },
    "papermill": {
     "duration": 6.436094,
     "end_time": "2021-02-06T11:59:18.530106",
     "exception": false,
     "start_time": "2021-02-06T11:59:12.094012",
     "status": "completed"
    },
    "tags": []
   },
   "outputs": [],
   "source": [
    "pip install xlrd"
   ]
  },
  {
   "cell_type": "code",
   "execution_count": null,
   "metadata": {
    "execution": {
     "iopub.execute_input": "2021-02-06T11:59:18.582905Z",
     "iopub.status.busy": "2021-02-06T11:59:18.582336Z",
     "iopub.status.idle": "2021-02-06T11:59:18.585233Z",
     "shell.execute_reply": "2021-02-06T11:59:18.584808Z"
    },
    "papermill": {
     "duration": 0.028645,
     "end_time": "2021-02-06T11:59:18.585384",
     "exception": false,
     "start_time": "2021-02-06T11:59:18.556739",
     "status": "completed"
    },
    "tags": []
   },
   "outputs": [],
   "source": [
    "# Loading the required libraries\n",
    "import datetime as dt\n",
    "import pandas as pd\n",
    "import matplotlib.pyplot as plt"
   ]
  },
  {
   "cell_type": "code",
   "execution_count": null,
   "metadata": {
    "execution": {
     "iopub.execute_input": "2021-02-06T11:59:18.634507Z",
     "iopub.status.busy": "2021-02-06T11:59:18.633910Z",
     "iopub.status.idle": "2021-02-06T12:00:38.005014Z",
     "shell.execute_reply": "2021-02-06T12:00:38.005503Z"
    },
    "papermill": {
     "duration": 79.397932,
     "end_time": "2021-02-06T12:00:38.005682",
     "exception": false,
     "start_time": "2021-02-06T11:59:18.607750",
     "status": "completed"
    },
    "tags": []
   },
   "outputs": [],
   "source": [
    "# Reading the online retail dataset\n",
    "df_ = pd.read_excel(\"../input/online-retail-ii-data-set-from-ml-repository/online_retail_II.xlsx\",sheet_name=\"Year 2010-2011\")\n",
    "\n",
    "# Copying the online retail dataset \n",
    "df = df_.copy()\n",
    "df.head()"
   ]
  },
  {
   "cell_type": "code",
   "execution_count": null,
   "metadata": {
    "execution": {
     "iopub.execute_input": "2021-02-06T12:00:38.063497Z",
     "iopub.status.busy": "2021-02-06T12:00:38.062562Z",
     "iopub.status.idle": "2021-02-06T12:00:38.132503Z",
     "shell.execute_reply": "2021-02-06T12:00:38.131631Z"
    },
    "papermill": {
     "duration": 0.105552,
     "end_time": "2021-02-06T12:00:38.132652",
     "exception": false,
     "start_time": "2021-02-06T12:00:38.027100",
     "status": "completed"
    },
    "scrolled": true,
    "tags": []
   },
   "outputs": [],
   "source": [
    "# Checking numerical variables\n",
    "df.describe().T"
   ]
  },
  {
   "cell_type": "code",
   "execution_count": null,
   "metadata": {
    "execution": {
     "iopub.execute_input": "2021-02-06T12:00:38.224829Z",
     "iopub.status.busy": "2021-02-06T12:00:38.224190Z",
     "iopub.status.idle": "2021-02-06T12:00:38.335432Z",
     "shell.execute_reply": "2021-02-06T12:00:38.334890Z"
    },
    "papermill": {
     "duration": 0.136762,
     "end_time": "2021-02-06T12:00:38.335573",
     "exception": false,
     "start_time": "2021-02-06T12:00:38.198811",
     "status": "completed"
    },
    "scrolled": true,
    "tags": []
   },
   "outputs": [],
   "source": [
    "# Checking null variables \n",
    "df.isna().sum()"
   ]
  },
  {
   "cell_type": "markdown",
   "metadata": {
    "papermill": {
     "duration": 0.022449,
     "end_time": "2021-02-06T12:00:38.424631",
     "exception": false,
     "start_time": "2021-02-06T12:00:38.402182",
     "status": "completed"
    },
    "tags": []
   },
   "source": [
    "## 2. Data Preprocessing"
   ]
  },
  {
   "cell_type": "code",
   "execution_count": null,
   "metadata": {
    "execution": {
     "iopub.execute_input": "2021-02-06T12:00:38.475771Z",
     "iopub.status.busy": "2021-02-06T12:00:38.475133Z",
     "iopub.status.idle": "2021-02-06T12:00:39.216371Z",
     "shell.execute_reply": "2021-02-06T12:00:39.215885Z"
    },
    "papermill": {
     "duration": 0.76946,
     "end_time": "2021-02-06T12:00:39.216526",
     "exception": false,
     "start_time": "2021-02-06T12:00:38.447066",
     "status": "completed"
    },
    "scrolled": true,
    "tags": []
   },
   "outputs": [],
   "source": [
    "# Data preparation step 1: Removing null oberservations\n",
    "df.dropna(inplace=True)\n",
    "\n",
    "# Data preparation step 1: Removing canceled orders \n",
    "df = df[~df[\"Invoice\"].str.contains(\"C\", na=False)]\n",
    "df = df[df[\"Quantity\"] > 0]\n",
    "\n",
    "df.describe([0.01,0.25,0.50,0.75,0.99]).T"
   ]
  },
  {
   "cell_type": "code",
   "execution_count": null,
   "metadata": {
    "execution": {
     "iopub.execute_input": "2021-02-06T12:00:39.317265Z",
     "iopub.status.busy": "2021-02-06T12:00:39.316619Z",
     "iopub.status.idle": "2021-02-06T12:00:39.318668Z",
     "shell.execute_reply": "2021-02-06T12:00:39.319095Z"
    },
    "papermill": {
     "duration": 0.032924,
     "end_time": "2021-02-06T12:00:39.319287",
     "exception": false,
     "start_time": "2021-02-06T12:00:39.286363",
     "status": "completed"
    },
    "tags": []
   },
   "outputs": [],
   "source": [
    "# Defining functions for outliers\n",
    "def outlier_thresholds(dataframe, variable):\n",
    "    quartile1 = dataframe[variable].quantile(0.01)\n",
    "    quartile3 = dataframe[variable].quantile(0.99)\n",
    "    interquantile_range = quartile3 - quartile1\n",
    "    up_limit = quartile3 + 1.5 * interquantile_range\n",
    "    low_limit = quartile1 - 1.5 * interquantile_range\n",
    "    return low_limit, up_limit\n",
    "\n",
    "# Defining functions to replace outliers\n",
    "def replace_with_thresholds(dataframe, variable):\n",
    "    low_limit, up_limit = outlier_thresholds(dataframe, variable)\n",
    "    # dataframe.loc[(dataframe[variable] < low_limit), variable] = low_limit\n",
    "    dataframe.loc[(dataframe[variable] > up_limit), variable] = up_limit"
   ]
  },
  {
   "cell_type": "code",
   "execution_count": null,
   "metadata": {
    "execution": {
     "iopub.execute_input": "2021-02-06T12:00:39.369333Z",
     "iopub.status.busy": "2021-02-06T12:00:39.368731Z",
     "iopub.status.idle": "2021-02-06T12:00:39.474194Z",
     "shell.execute_reply": "2021-02-06T12:00:39.473641Z"
    },
    "papermill": {
     "duration": 0.131812,
     "end_time": "2021-02-06T12:00:39.474353",
     "exception": false,
     "start_time": "2021-02-06T12:00:39.342541",
     "status": "completed"
    },
    "tags": []
   },
   "outputs": [],
   "source": [
    "# Data preparation step 2: Replacing outliers in the Quantity and Price columns with the upper limit\n",
    "replace_with_thresholds(df, \"Quantity\")\n",
    "replace_with_thresholds(df, \"Price\")\n",
    "\n",
    "df.describe([0.01,0.25,0.50,0.75,0.99]).T"
   ]
  },
  {
   "cell_type": "code",
   "execution_count": null,
   "metadata": {
    "execution": {
     "iopub.execute_input": "2021-02-06T12:00:39.527594Z",
     "iopub.status.busy": "2021-02-06T12:00:39.526933Z",
     "iopub.status.idle": "2021-02-06T12:00:39.532508Z",
     "shell.execute_reply": "2021-02-06T12:00:39.531872Z"
    },
    "papermill": {
     "duration": 0.034684,
     "end_time": "2021-02-06T12:00:39.532647",
     "exception": false,
     "start_time": "2021-02-06T12:00:39.497963",
     "status": "completed"
    },
    "tags": []
   },
   "outputs": [],
   "source": [
    "# Data preparation step 3: Calculating total price per transaction \n",
    "df[\"TotalPrice\"] = df[\"Quantity\"] * df[\"Price\"]\n",
    "today_date = dt.datetime(2011, 12, 11)"
   ]
  },
  {
   "cell_type": "code",
   "execution_count": null,
   "metadata": {
    "execution": {
     "iopub.execute_input": "2021-02-06T12:00:39.585162Z",
     "iopub.status.busy": "2021-02-06T12:00:39.584603Z",
     "iopub.status.idle": "2021-02-06T12:00:39.590329Z",
     "shell.execute_reply": "2021-02-06T12:00:39.590745Z"
    },
    "papermill": {
     "duration": 0.034512,
     "end_time": "2021-02-06T12:00:39.590915",
     "exception": false,
     "start_time": "2021-02-06T12:00:39.556403",
     "status": "completed"
    },
    "tags": []
   },
   "outputs": [],
   "source": [
    "# Defining today date as max(InvoiceDate) + 2 days\n",
    "today_date = dt.datetime(2011, 12, 11)\n",
    "print(f\" Maximum invoice date: {df.InvoiceDate.max()} \\n Today date: {today_date}\")"
   ]
  },
  {
   "cell_type": "markdown",
   "metadata": {
    "papermill": {
     "duration": 0.024285,
     "end_time": "2021-02-06T12:00:39.639927",
     "exception": false,
     "start_time": "2021-02-06T12:00:39.615642",
     "status": "completed"
    },
    "tags": []
   },
   "source": [
    "## 3. Deriving the RFM Metrics\n",
    "\n",
    "Important metrics:\n",
    "\n",
    "**<p>Recency:**  The age of the customer at the time of their last purchase.\n",
    "**<p>Monetary:** The average total sales of the customer.\n",
    "**<p>Frequency:** Number of purchases/transactions.\n",
    "**<p>Age (T):** The age of the customer since the date of a customer's first purchase to the current date."
   ]
  },
  {
   "cell_type": "code",
   "execution_count": null,
   "metadata": {
    "execution": {
     "iopub.execute_input": "2021-02-06T12:00:39.696145Z",
     "iopub.status.busy": "2021-02-06T12:00:39.695490Z",
     "iopub.status.idle": "2021-02-06T12:00:41.955151Z",
     "shell.execute_reply": "2021-02-06T12:00:41.955667Z"
    },
    "papermill": {
     "duration": 2.290952,
     "end_time": "2021-02-06T12:00:41.955844",
     "exception": false,
     "start_time": "2021-02-06T12:00:39.664892",
     "status": "completed"
    },
    "tags": []
   },
   "outputs": [],
   "source": [
    "# Calculating recency, monetary, frequency and tenure metrics\n",
    "rfm = df.groupby(\"Customer ID\").agg({\"InvoiceDate\": [lambda date: (date.max() - date.min()).days,\n",
    "                                                     lambda date: (today_date - date.min()).days],\n",
    "                                     \"Invoice\": lambda num: num.nunique(),\n",
    "                                      \"TotalPrice\": lambda price: price.sum()}) #total price per customer\n",
    "\n",
    "rfm.columns = rfm.columns.droplevel(0)\n",
    "rfm.columns = ['Recency', \"T\", 'Frequency', \"Monetary\"]\n",
    "\n",
    "# Calculating average monetary values per order:\n",
    "rfm[\"Monetary\"] = rfm[\"Monetary\"] / rfm[\"Frequency\"]\n",
    "\n",
    "rfm.head()"
   ]
  },
  {
   "cell_type": "code",
   "execution_count": null,
   "metadata": {
    "execution": {
     "iopub.execute_input": "2021-02-06T12:00:42.011501Z",
     "iopub.status.busy": "2021-02-06T12:00:42.010459Z",
     "iopub.status.idle": "2021-02-06T12:00:42.022617Z",
     "shell.execute_reply": "2021-02-06T12:00:42.021927Z"
    },
    "papermill": {
     "duration": 0.042359,
     "end_time": "2021-02-06T12:00:42.022786",
     "exception": false,
     "start_time": "2021-02-06T12:00:41.980427",
     "status": "completed"
    },
    "tags": []
   },
   "outputs": [],
   "source": [
    "# Removing one-time purchases from dataset\n",
    "rfm = rfm[(rfm['Frequency'] > 1)]\n",
    "\n",
    "# Copying dataset\n",
    "cltv = rfm.copy()\n",
    "rfm.head()"
   ]
  },
  {
   "cell_type": "markdown",
   "metadata": {
    "papermill": {
     "duration": 0.025133,
     "end_time": "2021-02-06T12:00:42.073288",
     "exception": false,
     "start_time": "2021-02-06T12:00:42.048155",
     "status": "completed"
    },
    "tags": []
   },
   "source": [
    "# 4. Train BG-NBD Model"
   ]
  },
  {
   "cell_type": "code",
   "execution_count": null,
   "metadata": {
    "_kg_hide-output": true,
    "collapsed": true,
    "execution": {
     "iopub.execute_input": "2021-02-06T12:00:42.135934Z",
     "iopub.status.busy": "2021-02-06T12:00:42.128523Z",
     "iopub.status.idle": "2021-02-06T12:00:48.831682Z",
     "shell.execute_reply": "2021-02-06T12:00:48.832663Z"
    },
    "papermill": {
     "duration": 6.733913,
     "end_time": "2021-02-06T12:00:48.832893",
     "exception": false,
     "start_time": "2021-02-06T12:00:42.098980",
     "status": "completed"
    },
    "tags": []
   },
   "outputs": [],
   "source": [
    "pip install lifetimes"
   ]
  },
  {
   "cell_type": "code",
   "execution_count": null,
   "metadata": {
    "execution": {
     "iopub.execute_input": "2021-02-06T12:00:48.897308Z",
     "iopub.status.busy": "2021-02-06T12:00:48.896676Z",
     "iopub.status.idle": "2021-02-06T12:00:49.988747Z",
     "shell.execute_reply": "2021-02-06T12:00:49.988198Z"
    },
    "papermill": {
     "duration": 1.126335,
     "end_time": "2021-02-06T12:00:49.988891",
     "exception": false,
     "start_time": "2021-02-06T12:00:48.862556",
     "status": "completed"
    },
    "tags": []
   },
   "outputs": [],
   "source": [
    "# Loading the required libraries\n",
    "from lifetimes import BetaGeoFitter\n",
    "from lifetimes import GammaGammaFitter\n",
    "from lifetimes.plotting import plot_probability_alive_matrix"
   ]
  },
  {
   "cell_type": "code",
   "execution_count": null,
   "metadata": {
    "execution": {
     "iopub.execute_input": "2021-02-06T12:00:50.056479Z",
     "iopub.status.busy": "2021-02-06T12:00:50.052272Z",
     "iopub.status.idle": "2021-02-06T12:00:50.060975Z",
     "shell.execute_reply": "2021-02-06T12:00:50.061437Z"
    },
    "papermill": {
     "duration": 0.043956,
     "end_time": "2021-02-06T12:00:50.061614",
     "exception": false,
     "start_time": "2021-02-06T12:00:50.017658",
     "status": "completed"
    },
    "tags": []
   },
   "outputs": [],
   "source": [
    "# Checking BG/NBD model assumption and requirements\n",
    "print(cltv[['Monetary', 'Recency']].corr())  # Correlation between monetary ve recency variables\n",
    "cltv[\"Frequency\"] = cltv[\"Frequency\"].astype(int) # Type of frequency variable should be integer for BG-NBD model"
   ]
  },
  {
   "cell_type": "code",
   "execution_count": null,
   "metadata": {
    "execution": {
     "iopub.execute_input": "2021-02-06T12:00:50.127395Z",
     "iopub.status.busy": "2021-02-06T12:00:50.126646Z",
     "iopub.status.idle": "2021-02-06T12:00:50.293680Z",
     "shell.execute_reply": "2021-02-06T12:00:50.293140Z"
    },
    "papermill": {
     "duration": 0.201644,
     "end_time": "2021-02-06T12:00:50.293813",
     "exception": false,
     "start_time": "2021-02-06T12:00:50.092169",
     "status": "completed"
    },
    "scrolled": false,
    "tags": []
   },
   "outputs": [],
   "source": [
    "# Creating BG-NBD Model\n",
    "bgf = BetaGeoFitter(penalizer_coef=0.001) # model object\n",
    "bgf.fit(cltv['Frequency'], cltv['Recency'], cltv['T']) # model fitting\n",
    "\n",
    "# Prediction of expected number of transaction for each customer for one year (365 days)\n",
    "cltv['expctd_num_of_purch'] = bgf.predict(365, cltv['Frequency'], cltv['Recency'], cltv['T']) \n",
    "cltv.sort_values(\"expctd_num_of_purch\",ascending=False).head()"
   ]
  },
  {
   "cell_type": "code",
   "execution_count": null,
   "metadata": {
    "execution": {
     "iopub.execute_input": "2021-02-06T12:00:50.433160Z",
     "iopub.status.busy": "2021-02-06T12:00:50.418716Z",
     "iopub.status.idle": "2021-02-06T12:00:50.815597Z",
     "shell.execute_reply": "2021-02-06T12:00:50.815110Z"
    },
    "papermill": {
     "duration": 0.433726,
     "end_time": "2021-02-06T12:00:50.815738",
     "exception": false,
     "start_time": "2021-02-06T12:00:50.382012",
     "status": "completed"
    },
    "tags": []
   },
   "outputs": [],
   "source": [
    "%matplotlib inline\n",
    "# set figure size\n",
    "plt.subplots(figsize=(10, 5))\n",
    "plot_probability_alive_matrix(bgf)\n",
    "plt.show()"
   ]
  },
  {
   "cell_type": "markdown",
   "metadata": {
    "papermill": {
     "duration": 0.030147,
     "end_time": "2021-02-06T12:00:50.876371",
     "exception": false,
     "start_time": "2021-02-06T12:00:50.846224",
     "status": "completed"
    },
    "tags": []
   },
   "source": [
    "# 5. Train Gamma Gamma Model \n",
    " "
   ]
  },
  {
   "cell_type": "code",
   "execution_count": null,
   "metadata": {
    "execution": {
     "iopub.execute_input": "2021-02-06T12:00:50.945455Z",
     "iopub.status.busy": "2021-02-06T12:00:50.944791Z",
     "iopub.status.idle": "2021-02-06T12:00:51.013319Z",
     "shell.execute_reply": "2021-02-06T12:00:51.012705Z"
    },
    "papermill": {
     "duration": 0.106405,
     "end_time": "2021-02-06T12:00:51.013460",
     "exception": false,
     "start_time": "2021-02-06T12:00:50.907055",
     "status": "completed"
    },
    "scrolled": true,
    "tags": []
   },
   "outputs": [],
   "source": [
    "# Creating Gamma-Gamma Model\n",
    "ggf = GammaGammaFitter(penalizer_coef=0.01) # model object\n",
    "ggf.fit(cltv['Frequency'], cltv['Monetary']) # model fitting\n",
    "\n",
    "# Prediction of expected amount of average profit\n",
    "cltv[\"expct_avg_spend\"] = ggf.conditional_expected_average_profit(cltv['Frequency'], cltv['Monetary'])\n",
    "\n",
    "cltv.head()"
   ]
  },
  {
   "cell_type": "markdown",
   "metadata": {
    "papermill": {
     "duration": 0.030653,
     "end_time": "2021-02-06T12:00:51.075574",
     "exception": false,
     "start_time": "2021-02-06T12:00:51.044921",
     "status": "completed"
    },
    "tags": []
   },
   "source": [
    "## 6. Final: Calculate CLTV"
   ]
  },
  {
   "cell_type": "code",
   "execution_count": null,
   "metadata": {
    "execution": {
     "iopub.execute_input": "2021-02-06T12:00:51.143176Z",
     "iopub.status.busy": "2021-02-06T12:00:51.142574Z",
     "iopub.status.idle": "2021-02-06T12:00:51.389334Z",
     "shell.execute_reply": "2021-02-06T12:00:51.388830Z"
    },
    "papermill": {
     "duration": 0.282943,
     "end_time": "2021-02-06T12:00:51.389483",
     "exception": false,
     "start_time": "2021-02-06T12:00:51.106540",
     "status": "completed"
    },
    "tags": []
   },
   "outputs": [],
   "source": [
    "# Calculating customer lifetime value by using BG-NBD and GammaGamma models: \n",
    "\n",
    "cltv[\"cltv_one_year\"] = ggf.customer_lifetime_value(bgf,\n",
    "                                   cltv['Frequency'],\n",
    "                                   cltv['Recency'],\n",
    "                                   cltv['T'],\n",
    "                                   cltv['Monetary'],\n",
    "                                   time=12,  # 12 month\n",
    "                                   freq=\"D\",  # frequency of T\n",
    "                                   discount_rate=0.01)\n",
    "\n",
    "cltv.sort_values(\"cltv_one_year\",ascending=False).head()"
   ]
  }
 ],
 "metadata": {
  "kernelspec": {
   "display_name": "Python 3",
   "language": "python",
   "name": "python3"
  },
  "language_info": {
   "codemirror_mode": {
    "name": "ipython",
    "version": 3
   },
   "file_extension": ".py",
   "mimetype": "text/x-python",
   "name": "python",
   "nbconvert_exporter": "python",
   "pygments_lexer": "ipython3",
   "version": "3.7.9"
  },
  "papermill": {
   "default_parameters": {},
   "duration": 116.93758,
   "end_time": "2021-02-06T12:00:53.317611",
   "environment_variables": {},
   "exception": null,
   "input_path": "__notebook__.ipynb",
   "output_path": "__notebook__.ipynb",
   "parameters": {},
   "start_time": "2021-02-06T11:58:56.380031",
   "version": "2.2.2"
  }
 },
 "nbformat": 4,
 "nbformat_minor": 4
}
