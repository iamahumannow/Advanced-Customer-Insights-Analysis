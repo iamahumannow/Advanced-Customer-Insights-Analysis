{
 "cells": [
  {
   "cell_type": "code",
   "execution_count": null,
   "id": "fcf93908",
   "metadata": {
    "_kg_hide-input": true,
    "_kg_hide-output": true,
    "execution": {
     "iopub.execute_input": "2021-10-08T04:14:39.060038Z",
     "iopub.status.busy": "2021-10-08T04:14:39.055888Z",
     "iopub.status.idle": "2021-10-08T04:14:39.073633Z",
     "shell.execute_reply": "2021-10-08T04:14:39.074253Z",
     "shell.execute_reply.started": "2021-10-08T04:12:13.749841Z"
    },
    "papermill": {
     "duration": 0.059258,
     "end_time": "2021-10-08T04:14:39.074653",
     "exception": false,
     "start_time": "2021-10-08T04:14:39.015395",
     "status": "completed"
    },
    "tags": []
   },
   "outputs": [],
   "source": [
    "# This Python 3 environment comes with many helpful analytics libraries installed\n",
    "# It is defined by the kaggle/python Docker image: https://github.com/kaggle/docker-python\n",
    "# For example, here's several helpful packages to load\n",
    "\n",
    "import numpy as np # linear algebra\n",
    "import pandas as pd # data processing, CSV file I/O (e.g. pd.read_csv)\n",
    "\n",
    "# Input data files are available in the read-only \"../input/\" directory\n",
    "# For example, running this (by clicking run or pressing Shift+Enter) will list all files under the input directory\n",
    "\n",
    "import os\n",
    "for dirname, _, filenames in os.walk('/kaggle/input'):\n",
    "    for filename in filenames:\n",
    "        print(os.path.join(dirname, filename))\n",
    "\n",
    "# You can write up to 20GB to the current directory (/kaggle/working/) that gets preserved as output when you create a version using \"Save & Run All\" \n",
    "# You can also write temporary files to /kaggle/temp/, but they won't be saved outside of the current session"
   ]
  },
  {
   "cell_type": "markdown",
   "id": "acd0f7c7",
   "metadata": {
    "papermill": {
     "duration": 0.028812,
     "end_time": "2021-10-08T04:14:39.192253",
     "exception": false,
     "start_time": "2021-10-08T04:14:39.163441",
     "status": "completed"
    },
    "tags": []
   },
   "source": [
    "<a id=\"1\"></a>\n",
    "# <p>IMPORTING LIBRARIES</p>"
   ]
  },
  {
   "cell_type": "code",
   "execution_count": null,
   "id": "351f137d",
   "metadata": {
    "execution": {
     "iopub.execute_input": "2021-10-08T04:14:39.256813Z",
     "iopub.status.busy": "2021-10-08T04:14:39.256071Z",
     "iopub.status.idle": "2021-10-08T04:14:40.759591Z",
     "shell.execute_reply": "2021-10-08T04:14:40.759031Z",
     "shell.execute_reply.started": "2021-10-08T04:12:13.782444Z"
    },
    "papermill": {
     "duration": 1.53841,
     "end_time": "2021-10-08T04:14:40.759736",
     "exception": false,
     "start_time": "2021-10-08T04:14:39.221326",
     "status": "completed"
    },
    "tags": []
   },
   "outputs": [],
   "source": [
    "#Importing the Libraries\n",
    "import numpy as np\n",
    "import pandas as pd\n",
    "import datetime\n",
    "import matplotlib\n",
    "import matplotlib.pyplot as plt\n",
    "from matplotlib import colors\n",
    "import seaborn as sns\n",
    "from sklearn.preprocessing import LabelEncoder\n",
    "from sklearn.preprocessing import StandardScaler\n",
    "from sklearn.decomposition import PCA\n",
    "from yellowbrick.cluster import KElbowVisualizer\n",
    "from sklearn.cluster import KMeans\n",
    "import matplotlib.pyplot as plt, numpy as np\n",
    "from mpl_toolkits.mplot3d import Axes3D\n",
    "from sklearn.cluster import AgglomerativeClustering\n",
    "from matplotlib.colors import ListedColormap\n",
    "from sklearn import metrics\n",
    "import warnings\n",
    "import sys\n",
    "if not sys.warnoptions:\n",
    "    warnings.simplefilter(\"ignore\")\n",
    "np.random.seed(42)"
   ]
  },
  {
   "cell_type": "markdown",
   "id": "e679ec88",
   "metadata": {
    "papermill": {
     "duration": 0.029156,
     "end_time": "2021-10-08T04:14:40.817772",
     "exception": false,
     "start_time": "2021-10-08T04:14:40.788616",
     "status": "completed"
    },
    "tags": []
   },
   "source": [
    "<a id=\"2\"></a>\n",
    "# <p>LOADING DATA</p>"
   ]
  },
  {
   "cell_type": "code",
   "execution_count": null,
   "id": "7a6e8b5a",
   "metadata": {
    "execution": {
     "iopub.execute_input": "2021-10-08T04:14:40.879581Z",
     "iopub.status.busy": "2021-10-08T04:14:40.878909Z",
     "iopub.status.idle": "2021-10-08T04:14:40.932630Z",
     "shell.execute_reply": "2021-10-08T04:14:40.933049Z",
     "shell.execute_reply.started": "2021-10-08T04:12:15.114297Z"
    },
    "papermill": {
     "duration": 0.087752,
     "end_time": "2021-10-08T04:14:40.933340",
     "exception": false,
     "start_time": "2021-10-08T04:14:40.845588",
     "status": "completed"
    },
    "tags": []
   },
   "outputs": [],
   "source": [
    "#Loading the dataset\n",
    "data = pd.read_csv(\"../input/customer-personality-analysis/marketing_campaign.csv\", sep=\"\\t\")\n",
    "print(\"Number of datapoints:\", len(data))\n",
    "data.head()"
   ]
  },
  {
   "cell_type": "markdown",
   "id": "d32c3d27",
   "metadata": {
    "papermill": {
     "duration": 0.028,
     "end_time": "2021-10-08T04:14:40.989700",
     "exception": false,
     "start_time": "2021-10-08T04:14:40.961700",
     "status": "completed"
    },
    "tags": []
   },
   "source": [
    "<a id=\"3\"></a>\n",
    "# <p>DATA CLEANING</p>\n"
   ]
  },
  {
   "cell_type": "code",
   "execution_count": null,
   "id": "ce8667e8",
   "metadata": {
    "execution": {
     "iopub.execute_input": "2021-10-08T04:14:41.061822Z",
     "iopub.status.busy": "2021-10-08T04:14:41.055775Z",
     "iopub.status.idle": "2021-10-08T04:14:41.076529Z",
     "shell.execute_reply": "2021-10-08T04:14:41.075783Z",
     "shell.execute_reply.started": "2021-10-08T04:12:15.173448Z"
    },
    "papermill": {
     "duration": 0.058629,
     "end_time": "2021-10-08T04:14:41.076744",
     "exception": false,
     "start_time": "2021-10-08T04:14:41.018115",
     "status": "completed"
    },
    "tags": []
   },
   "outputs": [],
   "source": [
    "#Information on features \n",
    "data.info()"
   ]
  },
  {
   "cell_type": "code",
   "execution_count": null,
   "id": "b6003c58",
   "metadata": {
    "execution": {
     "iopub.execute_input": "2021-10-08T04:14:41.203332Z",
     "iopub.status.busy": "2021-10-08T04:14:41.202517Z",
     "iopub.status.idle": "2021-10-08T04:14:41.207231Z",
     "shell.execute_reply": "2021-10-08T04:14:41.206495Z",
     "shell.execute_reply.started": "2021-10-08T04:12:15.199835Z"
    },
    "papermill": {
     "duration": 0.042312,
     "end_time": "2021-10-08T04:14:41.207425",
     "exception": false,
     "start_time": "2021-10-08T04:14:41.165113",
     "status": "completed"
    },
    "tags": []
   },
   "outputs": [],
   "source": [
    "#To remove the NA values\n",
    "data = data.dropna()\n",
    "print(\"The total number of data-points after removing the rows with missing values are:\", len(data))"
   ]
  },
  {
   "cell_type": "code",
   "execution_count": null,
   "id": "29e0a06d",
   "metadata": {
    "execution": {
     "iopub.execute_input": "2021-10-08T04:14:41.334783Z",
     "iopub.status.busy": "2021-10-08T04:14:41.334173Z",
     "iopub.status.idle": "2021-10-08T04:14:41.341585Z",
     "shell.execute_reply": "2021-10-08T04:14:41.341118Z",
     "shell.execute_reply.started": "2021-10-08T04:12:15.211459Z"
    },
    "papermill": {
     "duration": 0.046416,
     "end_time": "2021-10-08T04:14:41.341737",
     "exception": false,
     "start_time": "2021-10-08T04:14:41.295321",
     "status": "completed"
    },
    "tags": []
   },
   "outputs": [],
   "source": [
    "data[\"Dt_Customer\"] = pd.to_datetime(data[\"Dt_Customer\"])\n",
    "dates = []\n",
    "for i in data[\"Dt_Customer\"]:\n",
    "    i = i.date()\n",
    "    dates.append(i)  \n",
    "#Dates of the newest and oldest recorded customer\n",
    "print(\"The newest customer's enrolment date in therecords:\",max(dates))\n",
    "print(\"The oldest customer's enrolment date in the records:\",min(dates))\n"
   ]
  },
  {
   "cell_type": "code",
   "execution_count": null,
   "id": "23e9342f",
   "metadata": {
    "execution": {
     "iopub.execute_input": "2021-10-08T04:14:41.480254Z",
     "iopub.status.busy": "2021-10-08T04:14:41.479279Z",
     "iopub.status.idle": "2021-10-08T04:14:41.481715Z",
     "shell.execute_reply": "2021-10-08T04:14:41.482326Z",
     "shell.execute_reply.started": "2021-10-08T04:12:15.230607Z"
    },
    "papermill": {
     "duration": 0.051941,
     "end_time": "2021-10-08T04:14:41.482563",
     "exception": false,
     "start_time": "2021-10-08T04:14:41.430622",
     "status": "completed"
    },
    "tags": []
   },
   "outputs": [],
   "source": [
    "#Created a feature \"Customer_For\"\n",
    "days = []\n",
    "d1 = max(dates) #taking it to be the newest customer\n",
    "for i in dates:\n",
    "    delta = d1 - i\n",
    "    days.append(delta)\n",
    "data[\"Customer_For\"] = days\n",
    "data[\"Customer_For\"] = pd.to_numeric(data[\"Customer_For\"], errors=\"coerce\")"
   ]
  },
  {
   "cell_type": "code",
   "execution_count": null,
   "id": "a4b44962",
   "metadata": {
    "execution": {
     "iopub.execute_input": "2021-10-08T04:14:41.636485Z",
     "iopub.status.busy": "2021-10-08T04:14:41.635493Z",
     "iopub.status.idle": "2021-10-08T04:14:41.639975Z",
     "shell.execute_reply": "2021-10-08T04:14:41.639496Z",
     "shell.execute_reply.started": "2021-10-08T04:12:15.251514Z"
    },
    "papermill": {
     "duration": 0.043279,
     "end_time": "2021-10-08T04:14:41.640142",
     "exception": false,
     "start_time": "2021-10-08T04:14:41.596863",
     "status": "completed"
    },
    "tags": []
   },
   "outputs": [],
   "source": [
    "print(\"Total categories in the feature Marital_Status:\\n\", data[\"Marital_Status\"].value_counts(), \"\\n\")\n",
    "print(\"Total categories in the feature Education:\\n\", data[\"Education\"].value_counts())"
   ]
  },
  {
   "cell_type": "code",
   "execution_count": null,
   "id": "39c3ecc3",
   "metadata": {
    "execution": {
     "iopub.execute_input": "2021-10-08T04:14:41.763000Z",
     "iopub.status.busy": "2021-10-08T04:14:41.762048Z",
     "iopub.status.idle": "2021-10-08T04:14:41.784285Z",
     "shell.execute_reply": "2021-10-08T04:14:41.784752Z",
     "shell.execute_reply.started": "2021-10-08T04:12:15.268640Z"
    },
    "papermill": {
     "duration": 0.055238,
     "end_time": "2021-10-08T04:14:41.784923",
     "exception": false,
     "start_time": "2021-10-08T04:14:41.729685",
     "status": "completed"
    },
    "tags": []
   },
   "outputs": [],
   "source": [
    "#Feature Engineering\n",
    "#Age of customer today \n",
    "data[\"Age\"] = 2021-data[\"Year_Birth\"]\n",
    "\n",
    "#Total spendings on various items\n",
    "data[\"Spent\"] = data[\"MntWines\"]+ data[\"MntFruits\"]+ data[\"MntMeatProducts\"]+ data[\"MntFishProducts\"]+ data[\"MntSweetProducts\"]+ data[\"MntGoldProds\"]\n",
    "\n",
    "#Deriving living situation by marital status\"Alone\"\n",
    "data[\"Living_With\"]=data[\"Marital_Status\"].replace({\"Married\":\"Partner\", \"Together\":\"Partner\", \"Absurd\":\"Alone\", \"Widow\":\"Alone\", \"YOLO\":\"Alone\", \"Divorced\":\"Alone\", \"Single\":\"Alone\",})\n",
    "\n",
    "#Feature indicating total children living in the household\n",
    "data[\"Children\"]=data[\"Kidhome\"]+data[\"Teenhome\"]\n",
    "\n",
    "#Feature for total members in the householde\n",
    "data[\"Family_Size\"] = data[\"Living_With\"].replace({\"Alone\": 1, \"Partner\":2})+ data[\"Children\"]\n",
    "\n",
    "#Feature pertaining parenthood\n",
    "data[\"Is_Parent\"] = np.where(data.Children> 0, 1, 0)\n",
    "\n",
    "#Segmenting education levels in three groups\n",
    "data[\"Education\"]=data[\"Education\"].replace({\"Basic\":\"Undergraduate\",\"2n Cycle\":\"Undergraduate\", \"Graduation\":\"Graduate\", \"Master\":\"Postgraduate\", \"PhD\":\"Postgraduate\"})\n",
    "\n",
    "#For clarity\n",
    "data=data.rename(columns={\"MntWines\": \"Wines\",\"MntFruits\":\"Fruits\",\"MntMeatProducts\":\"Meat\",\"MntFishProducts\":\"Fish\",\"MntSweetProducts\":\"Sweets\",\"MntGoldProds\":\"Gold\"})\n",
    "\n",
    "#Dropping some of the redundant features\n",
    "to_drop = [\"Marital_Status\", \"Dt_Customer\", \"Z_CostContact\", \"Z_Revenue\", \"Year_Birth\", \"ID\"]\n",
    "data = data.drop(to_drop, axis=1)"
   ]
  },
  {
   "cell_type": "code",
   "execution_count": null,
   "id": "89cc5d6b",
   "metadata": {
    "execution": {
     "iopub.execute_input": "2021-10-08T04:14:41.911150Z",
     "iopub.status.busy": "2021-10-08T04:14:41.910560Z",
     "iopub.status.idle": "2021-10-08T04:14:41.983207Z",
     "shell.execute_reply": "2021-10-08T04:14:41.982716Z",
     "shell.execute_reply.started": "2021-10-08T04:12:15.401193Z"
    },
    "papermill": {
     "duration": 0.109706,
     "end_time": "2021-10-08T04:14:41.983356",
     "exception": false,
     "start_time": "2021-10-08T04:14:41.873650",
     "status": "completed"
    },
    "tags": []
   },
   "outputs": [],
   "source": [
    "data.describe()"
   ]
  },
  {
   "cell_type": "code",
   "execution_count": null,
   "id": "f4f98d4d",
   "metadata": {
    "execution": {
     "iopub.execute_input": "2021-10-08T04:14:42.108649Z",
     "iopub.status.busy": "2021-10-08T04:14:42.107868Z",
     "iopub.status.idle": "2021-10-08T04:14:51.052631Z",
     "shell.execute_reply": "2021-10-08T04:14:51.053086Z",
     "shell.execute_reply.started": "2021-10-08T04:12:15.480124Z"
    },
    "papermill": {
     "duration": 8.979335,
     "end_time": "2021-10-08T04:14:51.053279",
     "exception": false,
     "start_time": "2021-10-08T04:14:42.073944",
     "status": "completed"
    },
    "tags": []
   },
   "outputs": [],
   "source": [
    "#To plot some selected features \n",
    "#Setting up colors prefrences\n",
    "sns.set(rc={\"axes.facecolor\":\"#FFF9ED\",\"figure.facecolor\":\"#FFF9ED\"})\n",
    "pallet = [\"#682F2F\", \"#9E726F\", \"#D6B2B1\", \"#B9C0C9\", \"#9F8A78\", \"#F3AB60\"]\n",
    "cmap = colors.ListedColormap([\"#682F2F\", \"#9E726F\", \"#D6B2B1\", \"#B9C0C9\", \"#9F8A78\", \"#F3AB60\"])\n",
    "#Plotting following features\n",
    "To_Plot = [ \"Income\", \"Recency\", \"Customer_For\", \"Age\", \"Spent\", \"Is_Parent\"]\n",
    "print(\"Reletive Plot Of Some Selected Features: A Data Subset\")\n",
    "plt.figure()\n",
    "sns.pairplot(data[To_Plot], hue= \"Is_Parent\",palette= ([\"#682F2F\",\"#F3AB60\"]))\n",
    "#Taking hue \n",
    "plt.show()"
   ]
  },
  {
   "cell_type": "code",
   "execution_count": null,
   "id": "57be2ade",
   "metadata": {
    "execution": {
     "iopub.execute_input": "2021-10-08T04:14:51.244803Z",
     "iopub.status.busy": "2021-10-08T04:14:51.244208Z",
     "iopub.status.idle": "2021-10-08T04:14:51.251678Z",
     "shell.execute_reply": "2021-10-08T04:14:51.252401Z",
     "shell.execute_reply.started": "2021-10-08T04:12:24.093947Z"
    },
    "papermill": {
     "duration": 0.05833,
     "end_time": "2021-10-08T04:14:51.252647",
     "exception": false,
     "start_time": "2021-10-08T04:14:51.194317",
     "status": "completed"
    },
    "tags": []
   },
   "outputs": [],
   "source": [
    "#Dropping the outliers by setting a cap on Age and income. \n",
    "data = data[(data[\"Age\"]<90)]\n",
    "data = data[(data[\"Income\"]<600000)]\n",
    "print(\"The total number of data-points after removing the outliers are:\", len(data))"
   ]
  },
  {
   "cell_type": "code",
   "execution_count": null,
   "id": "9003f989",
   "metadata": {
    "execution": {
     "iopub.execute_input": "2021-10-08T04:14:51.451283Z",
     "iopub.status.busy": "2021-10-08T04:14:51.450603Z",
     "iopub.status.idle": "2021-10-08T04:14:55.872170Z",
     "shell.execute_reply": "2021-10-08T04:14:55.872855Z",
     "shell.execute_reply.started": "2021-10-08T04:12:24.103737Z"
    },
    "papermill": {
     "duration": 4.47676,
     "end_time": "2021-10-08T04:14:55.873081",
     "exception": false,
     "start_time": "2021-10-08T04:14:51.396321",
     "status": "completed"
    },
    "tags": []
   },
   "outputs": [],
   "source": [
    "#correlation matrix\n",
    "corrmat= data.corr()\n",
    "plt.figure(figsize=(20,20))  \n",
    "sns.heatmap(corrmat,annot=True, cmap=cmap, center=0)"
   ]
  },
  {
   "cell_type": "markdown",
   "id": "a3009cfe",
   "metadata": {
    "papermill": {
     "duration": 0.063054,
     "end_time": "2021-10-08T04:14:56.005374",
     "exception": false,
     "start_time": "2021-10-08T04:14:55.942320",
     "status": "completed"
    },
    "tags": []
   },
   "source": [
    "\n",
    "<a id=\"4\"></a>\n",
    "# <p>DATA PREPROCESSING</p>\n"
   ]
  },
  {
   "cell_type": "code",
   "execution_count": null,
   "id": "8c2b2759",
   "metadata": {
    "execution": {
     "iopub.execute_input": "2021-10-08T04:14:56.143780Z",
     "iopub.status.busy": "2021-10-08T04:14:56.143069Z",
     "iopub.status.idle": "2021-10-08T04:14:56.148332Z",
     "shell.execute_reply": "2021-10-08T04:14:56.147769Z",
     "shell.execute_reply.started": "2021-10-08T04:12:28.363650Z"
    },
    "papermill": {
     "duration": 0.085186,
     "end_time": "2021-10-08T04:14:56.148485",
     "exception": false,
     "start_time": "2021-10-08T04:14:56.063299",
     "status": "completed"
    },
    "tags": []
   },
   "outputs": [],
   "source": [
    "#Get list of categorical variables\n",
    "s = (data.dtypes == 'object')\n",
    "object_cols = list(s[s].index)\n",
    "\n",
    "print(\"Categorical variables in the dataset:\", object_cols)"
   ]
  },
  {
   "cell_type": "code",
   "execution_count": null,
   "id": "115aaeb4",
   "metadata": {
    "execution": {
     "iopub.execute_input": "2021-10-08T04:14:56.284601Z",
     "iopub.status.busy": "2021-10-08T04:14:56.283653Z",
     "iopub.status.idle": "2021-10-08T04:14:56.295535Z",
     "shell.execute_reply": "2021-10-08T04:14:56.295995Z",
     "shell.execute_reply.started": "2021-10-08T04:12:28.371665Z"
    },
    "papermill": {
     "duration": 0.078164,
     "end_time": "2021-10-08T04:14:56.296208",
     "exception": false,
     "start_time": "2021-10-08T04:14:56.218044",
     "status": "completed"
    },
    "tags": []
   },
   "outputs": [],
   "source": [
    "#Label Encoding the object dtypes.\n",
    "LE=LabelEncoder()\n",
    "for i in object_cols:\n",
    "    data[i]=data[[i]].apply(LE.fit_transform)\n",
    "    \n",
    "print(\"All features are now numerical\")"
   ]
  },
  {
   "cell_type": "code",
   "execution_count": null,
   "id": "3d2a7deb",
   "metadata": {
    "execution": {
     "iopub.execute_input": "2021-10-08T04:14:56.418843Z",
     "iopub.status.busy": "2021-10-08T04:14:56.417813Z",
     "iopub.status.idle": "2021-10-08T04:14:56.429945Z",
     "shell.execute_reply": "2021-10-08T04:14:56.429482Z",
     "shell.execute_reply.started": "2021-10-08T04:12:28.392454Z"
    },
    "papermill": {
     "duration": 0.075769,
     "end_time": "2021-10-08T04:14:56.430085",
     "exception": false,
     "start_time": "2021-10-08T04:14:56.354316",
     "status": "completed"
    },
    "tags": []
   },
   "outputs": [],
   "source": [
    "#Creating a copy of data\n",
    "ds = data.copy()\n",
    "# creating a subset of dataframe by dropping the features on deals accepted and promotions\n",
    "cols_del = ['AcceptedCmp3', 'AcceptedCmp4', 'AcceptedCmp5', 'AcceptedCmp1','AcceptedCmp2', 'Complain', 'Response']\n",
    "ds = ds.drop(cols_del, axis=1)\n",
    "#Scaling\n",
    "scaler = StandardScaler()\n",
    "scaler.fit(ds)\n",
    "scaled_ds = pd.DataFrame(scaler.transform(ds),columns= ds.columns )\n",
    "print(\"All features are now scaled\")"
   ]
  },
  {
   "cell_type": "code",
   "execution_count": null,
   "id": "2f951bfa",
   "metadata": {
    "execution": {
     "iopub.execute_input": "2021-10-08T04:14:56.559863Z",
     "iopub.status.busy": "2021-10-08T04:14:56.557570Z",
     "iopub.status.idle": "2021-10-08T04:14:56.574476Z",
     "shell.execute_reply": "2021-10-08T04:14:56.574908Z",
     "shell.execute_reply.started": "2021-10-08T04:12:28.409942Z"
    },
    "papermill": {
     "duration": 0.087305,
     "end_time": "2021-10-08T04:14:56.575069",
     "exception": false,
     "start_time": "2021-10-08T04:14:56.487764",
     "status": "completed"
    },
    "tags": []
   },
   "outputs": [],
   "source": [
    "#Scaled data to be used for reducing the dimensionality\n",
    "print(\"Dataframe to be used for further modelling:\")\n",
    "scaled_ds.head()"
   ]
  },
  {
   "cell_type": "markdown",
   "id": "8448cbbb",
   "metadata": {
    "papermill": {
     "duration": 0.062052,
     "end_time": "2021-10-08T04:14:56.694594",
     "exception": false,
     "start_time": "2021-10-08T04:14:56.632542",
     "status": "completed"
    },
    "tags": []
   },
   "source": [
    "<a id=\"5\"></a>\n",
    "# <p>DIMENSIONALITY REDUCTION</p>\n",
    "\n",
    "**Principal component analysis (PCA)** is a technique for reducing the dimensionality of such datasets, increasing interpretability but at the same time minimizing information loss.\n"
   ]
  },
  {
   "cell_type": "code",
   "execution_count": null,
   "id": "1d9a0b28",
   "metadata": {
    "execution": {
     "iopub.execute_input": "2021-10-08T04:14:56.823997Z",
     "iopub.status.busy": "2021-10-08T04:14:56.816062Z",
     "iopub.status.idle": "2021-10-08T04:14:56.869227Z",
     "shell.execute_reply": "2021-10-08T04:14:56.870468Z",
     "shell.execute_reply.started": "2021-10-08T04:12:28.438263Z"
    },
    "papermill": {
     "duration": 0.118668,
     "end_time": "2021-10-08T04:14:56.870748",
     "exception": false,
     "start_time": "2021-10-08T04:14:56.752080",
     "status": "completed"
    },
    "tags": []
   },
   "outputs": [],
   "source": [
    "#Initiating PCA to reduce dimentions aka features to 3\n",
    "pca = PCA(n_components=3)\n",
    "pca.fit(scaled_ds)\n",
    "PCA_ds = pd.DataFrame(pca.transform(scaled_ds), columns=([\"col1\",\"col2\", \"col3\"]))\n",
    "PCA_ds.describe().T"
   ]
  },
  {
   "cell_type": "code",
   "execution_count": null,
   "id": "c9e49197",
   "metadata": {
    "execution": {
     "iopub.execute_input": "2021-10-08T04:14:57.061968Z",
     "iopub.status.busy": "2021-10-08T04:14:57.055234Z",
     "iopub.status.idle": "2021-10-08T04:14:57.336741Z",
     "shell.execute_reply": "2021-10-08T04:14:57.337174Z",
     "shell.execute_reply.started": "2021-10-08T04:12:28.499006Z"
    },
    "papermill": {
     "duration": 0.367462,
     "end_time": "2021-10-08T04:14:57.337354",
     "exception": false,
     "start_time": "2021-10-08T04:14:56.969892",
     "status": "completed"
    },
    "tags": []
   },
   "outputs": [],
   "source": [
    "#A 3D Projection Of Data In The Reduced Dimension\n",
    "x =PCA_ds[\"col1\"]\n",
    "y =PCA_ds[\"col2\"]\n",
    "z =PCA_ds[\"col3\"]\n",
    "#To plot\n",
    "fig = plt.figure(figsize=(10,8))\n",
    "ax = fig.add_subplot(111, projection=\"3d\")\n",
    "ax.scatter(x,y,z, c=\"maroon\", marker=\"o\" )\n",
    "ax.set_title(\"A 3D Projection Of Data In The Reduced Dimension\")\n",
    "plt.show()"
   ]
  },
  {
   "cell_type": "markdown",
   "id": "e177ffab",
   "metadata": {
    "papermill": {
     "duration": 0.061136,
     "end_time": "2021-10-08T04:14:57.460284",
     "exception": false,
     "start_time": "2021-10-08T04:14:57.399148",
     "status": "completed"
    },
    "tags": []
   },
   "source": [
    "<a id=\"6\"></a>\n",
    "# <p>CLUSTERING</p>\n"
   ]
  },
  {
   "cell_type": "code",
   "execution_count": null,
   "id": "70dd6138",
   "metadata": {
    "execution": {
     "iopub.execute_input": "2021-10-08T04:14:57.586371Z",
     "iopub.status.busy": "2021-10-08T04:14:57.585728Z",
     "iopub.status.idle": "2021-10-08T04:14:59.263906Z",
     "shell.execute_reply": "2021-10-08T04:14:59.263310Z",
     "shell.execute_reply.started": "2021-10-08T04:12:28.811409Z"
    },
    "papermill": {
     "duration": 1.74229,
     "end_time": "2021-10-08T04:14:59.264051",
     "exception": false,
     "start_time": "2021-10-08T04:14:57.521761",
     "status": "completed"
    },
    "tags": []
   },
   "outputs": [],
   "source": [
    "# Quick examination of elbow method to find numbers of clusters to make.\n",
    "print('Elbow Method to determine the number of clusters to be formed:')\n",
    "Elbow_M = KElbowVisualizer(KMeans(), k=10)\n",
    "Elbow_M.fit(PCA_ds)\n",
    "Elbow_M.show()"
   ]
  },
  {
   "cell_type": "code",
   "execution_count": null,
   "id": "07f5743a",
   "metadata": {
    "execution": {
     "iopub.execute_input": "2021-10-08T04:14:59.527275Z",
     "iopub.status.busy": "2021-10-08T04:14:59.526543Z",
     "iopub.status.idle": "2021-10-08T04:14:59.670409Z",
     "shell.execute_reply": "2021-10-08T04:14:59.669779Z",
     "shell.execute_reply.started": "2021-10-08T04:12:30.673084Z"
    },
    "papermill": {
     "duration": 0.213864,
     "end_time": "2021-10-08T04:14:59.670550",
     "exception": false,
     "start_time": "2021-10-08T04:14:59.456686",
     "status": "completed"
    },
    "tags": []
   },
   "outputs": [],
   "source": [
    "#Initiating the Agglomerative Clustering model \n",
    "AC = AgglomerativeClustering(n_clusters=4)\n",
    "# fit model and predict clusters\n",
    "yhat_AC = AC.fit_predict(PCA_ds)\n",
    "PCA_ds[\"Clusters\"] = yhat_AC\n",
    "#Adding the Clusters feature to the orignal dataframe.\n",
    "data[\"Clusters\"]= yhat_AC"
   ]
  },
  {
   "cell_type": "code",
   "execution_count": null,
   "id": "c56f2f13",
   "metadata": {
    "execution": {
     "iopub.execute_input": "2021-10-08T04:14:59.948296Z",
     "iopub.status.busy": "2021-10-08T04:14:59.942685Z",
     "iopub.status.idle": "2021-10-08T04:15:00.243746Z",
     "shell.execute_reply": "2021-10-08T04:15:00.244210Z",
     "shell.execute_reply.started": "2021-10-08T04:12:30.828912Z"
    },
    "papermill": {
     "duration": 0.381844,
     "end_time": "2021-10-08T04:15:00.244379",
     "exception": false,
     "start_time": "2021-10-08T04:14:59.862535",
     "status": "completed"
    },
    "tags": []
   },
   "outputs": [],
   "source": [
    "#Plotting the clusters\n",
    "fig = plt.figure(figsize=(10,8))\n",
    "ax = plt.subplot(111, projection='3d', label=\"bla\")\n",
    "ax.scatter(x, y, z, s=40, c=PCA_ds[\"Clusters\"], marker='o', cmap = cmap )\n",
    "ax.set_title(\"The Plot Of The Clusters\")\n",
    "plt.show()"
   ]
  },
  {
   "cell_type": "markdown",
   "id": "f0e7a9d2",
   "metadata": {
    "papermill": {
     "duration": 0.065606,
     "end_time": "2021-10-08T04:15:00.376433",
     "exception": false,
     "start_time": "2021-10-08T04:15:00.310827",
     "status": "completed"
    },
    "tags": []
   },
   "source": [
    "<a id=\"7\"></a>\n",
    "# <p>MODEL EVALUATION</p>\n"
   ]
  },
  {
   "cell_type": "code",
   "execution_count": null,
   "id": "6b9189d2",
   "metadata": {
    "execution": {
     "iopub.execute_input": "2021-10-08T04:15:00.515866Z",
     "iopub.status.busy": "2021-10-08T04:15:00.514854Z",
     "iopub.status.idle": "2021-10-08T04:15:00.913031Z",
     "shell.execute_reply": "2021-10-08T04:15:00.912447Z",
     "shell.execute_reply.started": "2021-10-08T04:12:31.157287Z"
    },
    "papermill": {
     "duration": 0.470936,
     "end_time": "2021-10-08T04:15:00.913213",
     "exception": false,
     "start_time": "2021-10-08T04:15:00.442277",
     "status": "completed"
    },
    "tags": []
   },
   "outputs": [],
   "source": [
    "#Plotting countplot of clusters\n",
    "pal = [\"#682F2F\",\"#B9C0C9\", \"#9F8A78\",\"#F3AB60\"]\n",
    "pl = sns.countplot(x=data[\"Clusters\"], palette= pal)\n",
    "pl.set_title(\"Distribution Of The Clusters\")\n",
    "plt.show()"
   ]
  },
  {
   "cell_type": "code",
   "execution_count": null,
   "id": "559ecb13",
   "metadata": {
    "execution": {
     "iopub.execute_input": "2021-10-08T04:15:01.360323Z",
     "iopub.status.busy": "2021-10-08T04:15:01.359683Z",
     "iopub.status.idle": "2021-10-08T04:15:01.793924Z",
     "shell.execute_reply": "2021-10-08T04:15:01.792766Z",
     "shell.execute_reply.started": "2021-10-08T04:12:31.389440Z"
    },
    "papermill": {
     "duration": 0.510132,
     "end_time": "2021-10-08T04:15:01.794103",
     "exception": false,
     "start_time": "2021-10-08T04:15:01.283971",
     "status": "completed"
    },
    "tags": []
   },
   "outputs": [],
   "source": [
    "pl = sns.scatterplot(data = data,x=data[\"Spent\"], y=data[\"Income\"],hue=data[\"Clusters\"], palette= pal)\n",
    "pl.set_title(\"Cluster's Profile Based On Income And Spending\")\n",
    "plt.legend()\n",
    "plt.show()"
   ]
  },
  {
   "cell_type": "code",
   "execution_count": null,
   "id": "4903aaf3",
   "metadata": {
    "execution": {
     "iopub.execute_input": "2021-10-08T04:15:02.088310Z",
     "iopub.status.busy": "2021-10-08T04:15:02.087626Z",
     "iopub.status.idle": "2021-10-08T04:15:06.694890Z",
     "shell.execute_reply": "2021-10-08T04:15:06.695350Z",
     "shell.execute_reply.started": "2021-10-08T04:12:31.819670Z"
    },
    "papermill": {
     "duration": 4.684948,
     "end_time": "2021-10-08T04:15:06.695522",
     "exception": false,
     "start_time": "2021-10-08T04:15:02.010574",
     "status": "completed"
    },
    "tags": []
   },
   "outputs": [],
   "source": [
    "plt.figure()\n",
    "pl=sns.swarmplot(x=data[\"Clusters\"], y=data[\"Spent\"], color= \"#CBEDDD\", alpha=0.5 )\n",
    "pl=sns.boxenplot(x=data[\"Clusters\"], y=data[\"Spent\"], palette=pal)\n",
    "plt.show()"
   ]
  },
  {
   "cell_type": "code",
   "execution_count": null,
   "id": "e70811f2",
   "metadata": {
    "execution": {
     "iopub.execute_input": "2021-10-08T04:15:07.146675Z",
     "iopub.status.busy": "2021-10-08T04:15:07.145665Z",
     "iopub.status.idle": "2021-10-08T04:15:07.434967Z",
     "shell.execute_reply": "2021-10-08T04:15:07.434335Z",
     "shell.execute_reply.started": "2021-10-08T04:12:36.278010Z"
    },
    "papermill": {
     "duration": 0.373835,
     "end_time": "2021-10-08T04:15:07.435114",
     "exception": false,
     "start_time": "2021-10-08T04:15:07.061279",
     "status": "completed"
    },
    "tags": []
   },
   "outputs": [],
   "source": [
    "#Creating a feature to get a sum of accepted promotions \n",
    "data[\"Total_Promos\"] = data[\"AcceptedCmp1\"]+ data[\"AcceptedCmp2\"]+ data[\"AcceptedCmp3\"]+ data[\"AcceptedCmp4\"]+ data[\"AcceptedCmp5\"]\n",
    "#Plotting count of total campaign accepted.\n",
    "plt.figure()\n",
    "pl = sns.countplot(x=data[\"Total_Promos\"],hue=data[\"Clusters\"], palette= pal)\n",
    "pl.set_title(\"Count Of Promotion Accepted\")\n",
    "pl.set_xlabel(\"Number Of Total Accepted Promotions\")\n",
    "plt.show()"
   ]
  },
  {
   "cell_type": "code",
   "execution_count": null,
   "id": "20b69169",
   "metadata": {
    "execution": {
     "iopub.execute_input": "2021-10-08T04:15:07.734414Z",
     "iopub.status.busy": "2021-10-08T04:15:07.733808Z",
     "iopub.status.idle": "2021-10-08T04:15:07.983586Z",
     "shell.execute_reply": "2021-10-08T04:15:07.983066Z",
     "shell.execute_reply.started": "2021-10-08T04:12:36.567195Z"
    },
    "papermill": {
     "duration": 0.325298,
     "end_time": "2021-10-08T04:15:07.983731",
     "exception": false,
     "start_time": "2021-10-08T04:15:07.658433",
     "status": "completed"
    },
    "tags": []
   },
   "outputs": [],
   "source": [
    "#Plotting the number of deals purchased\n",
    "plt.figure()\n",
    "pl=sns.boxenplot(y=data[\"NumDealsPurchases\"],x=data[\"Clusters\"], palette= pal)\n",
    "pl.set_title(\"Number of Deals Purchased\")\n",
    "plt.show()"
   ]
  },
  {
   "cell_type": "code",
   "execution_count": null,
   "id": "61521155",
   "metadata": {
    "_kg_hide-input": true,
    "_kg_hide-output": true,
    "execution": {
     "iopub.execute_input": "2021-10-08T04:15:08.291394Z",
     "iopub.status.busy": "2021-10-08T04:15:08.290733Z",
     "iopub.status.idle": "2021-10-08T04:15:11.506052Z",
     "shell.execute_reply": "2021-10-08T04:15:11.506546Z",
     "shell.execute_reply.started": "2021-10-08T04:12:36.807697Z"
    },
    "papermill": {
     "duration": 3.296251,
     "end_time": "2021-10-08T04:15:11.506721",
     "exception": false,
     "start_time": "2021-10-08T04:15:08.210470",
     "status": "completed"
    },
    "tags": []
   },
   "outputs": [],
   "source": [
    "#for more details on the purchasing style \n",
    "Places =[\"NumWebPurchases\", \"NumCatalogPurchases\", \"NumStorePurchases\",  \"NumWebVisitsMonth\"] \n",
    "\n",
    "for i in Places:\n",
    "    plt.figure()\n",
    "    sns.jointplot(x=data[i],y = data[\"Spent\"],hue=data[\"Clusters\"], palette= pal)\n",
    "    plt.show()"
   ]
  },
  {
   "cell_type": "markdown",
   "id": "4bc708cd",
   "metadata": {
    "papermill": {
     "duration": 0.083796,
     "end_time": "2021-10-08T04:15:11.674202",
     "exception": false,
     "start_time": "2021-10-08T04:15:11.590406",
     "status": "completed"
    },
    "tags": []
   },
   "source": [
    "<a id=\"8\"></a>\n",
    "# <p>PROFILING</p>"
   ]
  },
  {
   "cell_type": "code",
   "execution_count": null,
   "id": "4f1be44f",
   "metadata": {
    "execution": {
     "iopub.execute_input": "2021-10-08T04:15:11.864726Z",
     "iopub.status.busy": "2021-10-08T04:15:11.863979Z",
     "iopub.status.idle": "2021-10-08T04:15:37.658767Z",
     "shell.execute_reply": "2021-10-08T04:15:37.659280Z",
     "shell.execute_reply.started": "2021-10-08T04:12:39.974905Z"
    },
    "papermill": {
     "duration": 25.901281,
     "end_time": "2021-10-08T04:15:37.659466",
     "exception": false,
     "start_time": "2021-10-08T04:15:11.758185",
     "status": "completed"
    },
    "tags": []
   },
   "outputs": [],
   "source": [
    "Personal = [ \"Kidhome\",\"Teenhome\",\"Customer_For\", \"Age\", \"Children\", \"Family_Size\", \"Is_Parent\", \"Education\",\"Living_With\"]\n",
    "\n",
    "for i in Personal:\n",
    "    plt.figure()\n",
    "    sns.jointplot(x=data[i], y=data[\"Spent\"], hue =data[\"Clusters\"], kind=\"kde\", palette=pal)\n",
    "    plt.show()\n"
   ]
  }
 ],
 "metadata": {
  "kernelspec": {
   "display_name": "Python 3",
   "language": "python",
   "name": "python3"
  },
  "language_info": {
   "codemirror_mode": {
    "name": "ipython",
    "version": 3
   },
   "file_extension": ".py",
   "mimetype": "text/x-python",
   "name": "python",
   "nbconvert_exporter": "python",
   "pygments_lexer": "ipython3",
   "version": "3.7.10"
  },
  "papermill": {
   "default_parameters": {},
   "duration": 68.93969,
   "end_time": "2021-10-08T04:15:39.992191",
   "environment_variables": {},
   "exception": null,
   "input_path": "__notebook__.ipynb",
   "output_path": "__notebook__.ipynb",
   "parameters": {},
   "start_time": "2021-10-08T04:14:31.052501",
   "version": "2.3.3"
  }
 },
 "nbformat": 4,
 "nbformat_minor": 5
}
